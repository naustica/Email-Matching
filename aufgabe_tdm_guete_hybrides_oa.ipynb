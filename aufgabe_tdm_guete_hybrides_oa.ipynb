{
  "cells": [
    {
      "metadata": {},
      "cell_type": "markdown",
      "source": "# Evaluation der Güte von Email-Extraktion aus OA-Volltexten"
    },
    {
      "metadata": {},
      "cell_type": "markdown",
      "source": "1 Fragestellung:\n\nAus Volltexten, die Open Access zur Verfügung stehen, wurde beim Text- und Data-Mining jeweils die erste gefundene Emailadresse extrahiert.\n\nNun soll die Güte der dadurch gewonnen Ergebnisse geprüft werden. Wichtige Messgrößen sind dabei „Recall“ und „Precision“:\n\nRecall: Wurden alle Emailadressen gefunden, die in dem jeweiligen Text vorhanden sind?\n\nPrecision: Ist der erste Emailmatch auch korrekt?"
    },
    {
      "metadata": {},
      "cell_type": "markdown",
      "source": "2 Vorgehen:\n\nÜberprüft wurde anhand einer Stichprobe von 200 Datensätzen.\n\nJe nachdem, aus welcher Quelle der jeweilige Datensatz entnommen wurde, musste unterschiedlich vorgegangen werden:\n\n+ Elsevier XML: Laden der TDM-URL führt zum XML, XML Node(s) überprüfen\n+ PMC OAI (NIH): https://www.ncbi.nlm.nih.gov/pubmed/ dann Suche mittels DOI -> PMCID ermitteln -> OAI-Repository-URL aufrufen mit + PMCID https://www.ncbi.nlm.nih.gov/pmc/oai/oai.cgi?verb=GetRecord&identifier=oai:pubmedcentral.nih.gov:PMCID&metadataPrefix=pmc_fm (PMCID ohne PMC, nur nummerisch)\n+ Springer HTML: Laden der TDM--ULR führt zum HTML, im Quelltext Metatags überprüfen\n+ Wiley PDF: DOI auf Verlagswebseite, PDF laden\n+ weitere: TDM-URL zum PDF Volltext folgen\n\nDann wurde jeweils eine Suche nach dem @-Zeichen durchgeführt, um die enthaltenen Emailadressen mit den Datensätzen vergleichen zu können.\n\nDie Ergebnisse wurden in folgender Form notiert:\n\nWaren im Text mehr Emailadressen zu finden als nur die eine, in den Datensätzen verzeichnete, wurde in der Spalte recall „FALSE“ eingetragen. In einer comment-Spalte wurde erläutert, welche Art Fehler vorlag. Dabei gab es drei Varianten: Ein zweiter Autor, dessen Emailadresse vorlag(comment-Eintrag: „second adress“), mehrere zusätzliche Autoren mit Emailadressen(„more adresses“) sowie ein Autor, für den mehrere Emailadressen angegeben wurden(„one author, several adresses“).\n\nStimmte die verzeichnete Emailadresse mit der erstgenannten in der Quelle überein, wurde in der Tabelle bei precision TRUE“ eingetragen und wenn nicht, „FALSE“."
    },
    {
      "metadata": {
        "trusted": true
      },
      "cell_type": "code",
      "source": "# notwendige Module installieren\n#!pip install pandas\n#!pip install matplotlib\n#!pip install numpy",
      "execution_count": 126,
      "outputs": []
    },
    {
      "metadata": {
        "trusted": true
      },
      "cell_type": "code",
      "source": "# notwendige Module importieren\nimport pandas as pd\nimport matplotlib.pyplot as plt\nimport numpy as np",
      "execution_count": 127,
      "outputs": []
    },
    {
      "metadata": {
        "trusted": true
      },
      "cell_type": "code",
      "source": "# extrahieren der email-suffixe\ndef get_mail_suffix(string):\n    position = string.find('@') \n    return string[position +1::]",
      "execution_count": 128,
      "outputs": []
    },
    {
      "metadata": {
        "trusted": true
      },
      "cell_type": "code",
      "source": "#print(get_mail_suffix('ggg@lal.de'))",
      "execution_count": 129,
      "outputs": []
    },
    {
      "metadata": {
        "trusted": true
      },
      "cell_type": "code",
      "source": "# csv-Dateien einlesen und DataFrame erstellen\nunbearbeitet = pd.read_csv('guete_unbearbeitet.csv', usecols = ['email', 'tdm_url', 'time_stamp', 'mine_method', 'doi'])\nbearbeitet = pd.read_csv('guete_bearbeitet.csv', usecols = ['email', 'tdm_url', 'time_stamp', 'mine_method', 'doi', 'recall', 'precision', 'comment'])\n\n# email-suffixe extrahieren\n#unbearbeitet['email'] = unbearbeitet['email'].apply(get_mail_suffix)\n#bearbeitet['email'] = bearbeitet['email'].apply(get_mail_suffix)\n\n#unbearbeitet.to_csv('guete_unbearbeitet.csv')\n#bearbeitet.to_csv('guete_bearbeitet.csv')",
      "execution_count": 130,
      "outputs": []
    },
    {
      "metadata": {
        "trusted": true
      },
      "cell_type": "code",
      "source": "# auszug aus unbearbeiteter Datei\nprint(unbearbeitet.head())",
      "execution_count": 131,
      "outputs": [
        {
          "output_type": "stream",
          "text": "              email                                            tdm_url  \\\n0  meduniwien.ac.at  https://api.elsevier.com/content/article/PII:S...   \n1        bruker.com  http://link.springer.com/article/10.1007/s1183...   \n2          ohsu.edu  https://api.elsevier.com/content/article/PII:S...   \n3           cox.net                                                      \n4        amc.uva.nl  http://link.springer.com/article/10.1007/s1176...   \n\n            time_stamp    mine_method                           doi  \n0  2018-12-17 16:06:12   Elsevier XML   10.1016/j.ddtec.2014.03.009  \n1  2018-12-18 08:00:29  Springer HTML     10.1007/s11837-018-2752-0  \n2  2018-12-17 16:06:12   Elsevier XML  10.1016/j.ocemod.2015.12.007  \n3  2018-12-16 12:29:19  PMC OAI (NIH)     10.1007/s13752-016-0244-4  \n4  2019-01-04 14:40:57  Springer HTML     10.1007/s11764-018-0690-z  \n",
          "name": "stdout"
        }
      ]
    },
    {
      "metadata": {
        "trusted": true
      },
      "cell_type": "code",
      "source": "# auszug aus bearbeiter Datei\nprint(bearbeitet.head())",
      "execution_count": 132,
      "outputs": [
        {
          "output_type": "stream",
          "text": "              email                                            tdm_url  \\\n0  meduniwien.ac.at  https://api.elsevier.com/content/article/PII:S...   \n1        bruker.com  http://link.springer.com/article/10.1007/s1183...   \n2          ohsu.edu  https://api.elsevier.com/content/article/PII:S...   \n3           cox.net                                                      \n4        amc.uva.nl  http://link.springer.com/article/10.1007/s1176...   \n\n                time_stamp    mine_method                           doi  \\\n0  2018-12-17 16:06:12 UTC   Elsevier XML   10.1016/j.ddtec.2014.03.009   \n1  2018-12-18 08:00:29 UTC  Springer HTML     10.1007/s11837-018-2752-0   \n2  2018-12-17 16:06:12 UTC   Elsevier XML  10.1016/j.ocemod.2015.12.007   \n3  2018-12-16 12:29:19 UTC  PMC OAI (NIH)     10.1007/s13752-016-0244-4   \n4  2019-01-04 14:40:57 UTC  Springer HTML     10.1007/s11764-018-0690-z   \n\n   recall  precision comment  \n0    True       True     NaN  \n1    True       True     NaN  \n2    True       True     NaN  \n3    True       True     NaN  \n4    True       True     NaN  \n",
          "name": "stdout"
        }
      ]
    },
    {
      "metadata": {
        "trusted": true
      },
      "cell_type": "code",
      "source": "# funktion zur Prozentmessung\ndef percent(boolean, spalte):\n    length_dataset = len(bearbeitet)\n    count_rows = len(bearbeitet[bearbeitet[spalte] == boolean])\n    prozent = count_rows/length_dataset\n    return prozent",
      "execution_count": 133,
      "outputs": []
    },
    {
      "metadata": {
        "trusted": true
      },
      "cell_type": "code",
      "source": "#print(percent(True, 'precision'))",
      "execution_count": 134,
      "outputs": []
    },
    {
      "metadata": {
        "trusted": true
      },
      "cell_type": "code",
      "source": "#print(percent(True, 'recall'))",
      "execution_count": 135,
      "outputs": []
    },
    {
      "metadata": {
        "trusted": true
      },
      "cell_type": "code",
      "source": "# funktion zum generieren eines plots\ndef make_plot(spalte):\n    true_percent = percent(True, spalte)\n    false_percent = percent(False, spalte)\n    \n    y_pos = ['True', 'False']\n    x_pos = [true_percent, false_percent]\n    plt.bar(y_pos, x_pos)\n    plt.ylabel('percent')\n    plt.xlabel('boolean')\n    plt.title('Ergebnis für ' + str(spalte))\n    plt.axis([None, None, 0, 1.0])\n \n    plt.show()",
      "execution_count": 136,
      "outputs": []
    },
    {
      "metadata": {},
      "cell_type": "markdown",
      "source": "3 Ergebnisse:\n\nWertebereich von Recall und Precision: 0 (Worst Case) bis 1 (Best Case).\n\nRecall: in 40 Fällen war die extrahierte Emailadresse nicht die einzige im Text verzeichnete relevante Emailadresse\n\n \n\nBerechnung Recall-Wert: A / (A+C)\n\nA = Anzahl der gefundenen korrekten Emailadressen (200)\n\nC = Anzahl der nicht gefundenen Emailadressen (40)\n\nRecall-Wert: 200/(200+40) = 0,83\n\n \n\nAusdifferenzierung nach Fehler-Sorte und Quelle:\n\nsecond adress: 16 (bei Elsevier: 6, bei Springer und Wiley je 1, Weitere: 8)\n\nmore adresses: 22 (bei Elsvevier: 15, weitere: 7)\n\none author, several adresses: 2 (beide bei Elsevier)\n\n \n\n \n\nPrecision: In allen 200 Datensätzen korrekt (TRUE), also optimal.\n\n \n\nBerechnung Precision-Wert: A / (A+B)\n\nA = Anzahl der gefundenen korrekten Emailadressen (200)\n\nB = Anzahl der gefundenen falschen Emailadressen (0)\n\nA+B = gesamte Treffermenge (200)\n\nPrecision-Wert: 200/(200+0) = 1"
    },
    {
      "metadata": {
        "trusted": true
      },
      "cell_type": "code",
      "source": "print(make_plot('precision'))",
      "execution_count": 137,
      "outputs": [
        {
          "output_type": "display_data",
          "data": {
            "image/png": "[encoded data removed]",
            "text/plain": "<Figure size 432x288 with 1 Axes>"
          },
          "metadata": {
            "needs_background": "light"
          }
        },
        {
          "output_type": "stream",
          "text": "None\n",
          "name": "stdout"
        }
      ]
    },
    {
      "metadata": {
        "trusted": true
      },
      "cell_type": "code",
      "source": "print(make_plot('recall'))",
      "execution_count": 138,
      "outputs": [
        {
          "output_type": "display_data",
          "data": {
            "image/png": "[encoded data removed]",
            "text/plain": "<Figure size 432x288 with 1 Axes>"
          },
          "metadata": {
            "needs_background": "light"
          }
        },
        {
          "output_type": "stream",
          "text": "None\n",
          "name": "stdout"
        }
      ]
    },
    {
      "metadata": {
        "trusted": true
      },
      "cell_type": "markdown",
      "source": "4 Diskussion\n\nUm den Recall zu verbessern, wäre es beispielsweise möglich, alle in den Volltexten enthaltenen Emailadressen zu extrahieren.\n\nDann würde allerdings in einigen Fällen auch die Emailadresse des Verlags oder Herausgebers mit verzeichnet.\n\nMöchte man alle Emailadressen finden, lohnt es sich insbesondere bei Elsevier, mehr als nur die erste Emailadresse zu extrahieren."
    },
    {
      "metadata": {},
      "cell_type": "markdown",
      "source": "5 Fazit\n\nDie Güte der Emailadressen-Extraktion ist insgesamt positiv zu beurteilen. Denn die Precision war optimal und der Recall gut."
    }
  ],
  "metadata": {
    "kernelspec": {
      "name": "python36",
      "display_name": "Python 3.6",
      "language": "python"
    },
    "language_info": {
      "mimetype": "text/x-python",
      "nbconvert_exporter": "python",
      "name": "python",
      "pygments_lexer": "ipython3",
      "version": "3.6.6",
      "file_extension": ".py",
      "codemirror_mode": {
        "version": 3,
        "name": "ipython"
      }
    }
  },
  "nbformat": 4,
  "nbformat_minor": 2
}
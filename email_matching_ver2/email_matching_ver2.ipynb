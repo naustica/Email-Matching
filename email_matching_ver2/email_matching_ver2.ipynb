{
  "cells": [
    {
      "metadata": {
        "trusted": true
      },
      "cell_type": "code",
      "source": "#!pip install tldextract\nimport tldextract as tld\nimport pandas as pd\nimport matplotlib as plt",
      "execution_count": 3,
      "outputs": []
    },
    {
      "metadata": {
        "trusted": true
      },
      "cell_type": "code",
      "source": "def extract_domain(link):\n    link = tld.extract(link)\n    return link.domain\n\ndef extract_suffix(link):\n    link = tld.extract(link)\n    return link.suffix\n\ndef extract_subdomain(link):\n    link = tld.extract(link)\n    return link.subdomain\n\ndef get_host(link):\n    domain = extract_domain(link)\n    suffix = extract_suffix(link)\n    host = str(domain) + '.' + str(suffix)\n    return host",
      "execution_count": 4,
      "outputs": []
    },
    {
      "metadata": {
        "trusted": true
      },
      "cell_type": "code",
      "source": "bearbeitet = pd.read_csv('guete_bearbeitet.csv', index_col = 0)\ninstitutes = pd.read_csv('institutes.csv', usecols=['grid_id','name'])\nlinks = pd.read_csv('links.csv')\nrelationships = pd.read_csv('relationships.csv', usecols=['relationship_type', 'related_grid_id'])",
      "execution_count": 5,
      "outputs": []
    },
    {
      "metadata": {
        "trusted": true
      },
      "cell_type": "code",
      "source": "name_and_link = institutes.merge(links, on='grid_id')",
      "execution_count": 6,
      "outputs": []
    },
    {
      "metadata": {
        "trusted": true
      },
      "cell_type": "code",
      "source": "name_and_link['subdomain'] = name_and_link['link'].apply(extract_subdomain)\nname_and_link['domain'] = name_and_link['link'].apply(extract_domain)\nname_and_link['suffix'] = name_and_link['link'].apply(extract_suffix)\nname_and_link['host'] = name_and_link['link'].apply(get_host)\n\nbearbeitet['mail_host'] = bearbeitet['email'].apply(get_host)",
      "execution_count": 7,
      "outputs": []
    },
    {
      "metadata": {
        "trusted": true
      },
      "cell_type": "code",
      "source": "child = relationships[relationships['relationship_type'] == 'Child']\nchild = name_and_link.merge(child, how='left', left_on='grid_id', right_on='related_grid_id')\n#print(child.head(200))\nparent = child[child.relationship_type != 'Child']\n#print(parent.head(200))\nname_and_link = parent",
      "execution_count": 8,
      "outputs": []
    },
    {
      "metadata": {
        "trusted": true
      },
      "cell_type": "code",
      "source": "print(name_and_link.head())",
      "execution_count": 9,
      "outputs": [
        {
          "output_type": "stream",
          "text": "       grid_id                            name                      link  \\\n0  grid.1001.0  Australian National University    http://www.anu.edu.au/   \n1  grid.1002.3               Monash University    http://www.monash.edu/   \n2  grid.1003.2        University of Queensland     http://www.uq.edu.au/   \n3  grid.1004.5            Macquarie University         http://mq.edu.au/   \n4  grid.1005.4                  UNSW Australia  https://www.unsw.edu.au/   \n\n  subdomain  domain  suffix         host relationship_type related_grid_id  \n0       www     anu  edu.au   anu.edu.au               NaN             NaN  \n1       www  monash     edu   monash.edu               NaN             NaN  \n2       www      uq  edu.au    uq.edu.au               NaN             NaN  \n3                mq  edu.au    mq.edu.au               NaN             NaN  \n4       www    unsw  edu.au  unsw.edu.au               NaN             NaN  \n",
          "name": "stdout"
        }
      ]
    },
    {
      "metadata": {
        "trusted": true
      },
      "cell_type": "code",
      "source": "name_and_link.to_csv('name_and_link_test.csv')",
      "execution_count": 10,
      "outputs": []
    },
    {
      "metadata": {
        "trusted": true
      },
      "cell_type": "code",
      "source": "join_host_and_bearbeitet = pd.merge(bearbeitet, name_and_link, how='left', left_on='mail_host', right_on='host')",
      "execution_count": 11,
      "outputs": []
    },
    {
      "metadata": {
        "trusted": true
      },
      "cell_type": "code",
      "source": "print(join_host_and_bearbeitet.head())",
      "execution_count": 12,
      "outputs": [
        {
          "output_type": "stream",
          "text": "              email                                            tdm_url  \\\n0  meduniwien.ac.at  https://api.elsevier.com/content/article/PII:S...   \n1  meduniwien.ac.at  https://api.elsevier.com/content/article/PII:S...   \n2  meduniwien.ac.at  https://api.elsevier.com/content/article/PII:S...   \n3  meduniwien.ac.at  https://api.elsevier.com/content/article/PII:S...   \n4        bruker.com  http://link.springer.com/article/10.1007/s1183...   \n\n                time_stamp    mine_method                          doi  \\\n0  2018-12-17 16:06:12 UTC   Elsevier XML  10.1016/j.ddtec.2014.03.009   \n1  2018-12-17 16:06:12 UTC   Elsevier XML  10.1016/j.ddtec.2014.03.009   \n2  2018-12-17 16:06:12 UTC   Elsevier XML  10.1016/j.ddtec.2014.03.009   \n3  2018-12-17 16:06:12 UTC   Elsevier XML  10.1016/j.ddtec.2014.03.009   \n4  2018-12-18 08:00:29 UTC  Springer HTML    10.1007/s11837-018-2752-0   \n\n   recall  precision comment         mail_host        grid_id  \\\n0    True       True     NaN  meduniwien.ac.at  grid.22937.3d   \n1    True       True     NaN  meduniwien.ac.at  grid.461839.1   \n2    True       True     NaN  meduniwien.ac.at  grid.488544.1   \n3    True       True     NaN  meduniwien.ac.at  grid.492160.8   \n4    True       True     NaN        bruker.com  grid.423270.0   \n\n                                                name  \\\n0                       Medical University of Vienna   \n1                                  Lehrkrankenhäuser   \n2                  Universitätsklinik für Neurologie   \n3  Universitätsklinik für Kinder und Jugendpsychi...   \n4                             Bruker (United States)   \n\n                                               link   subdomain      domain  \\\n0  http://www.meduniwien.ac.at/homepage/1/homepage/         www  meduniwien   \n1   http://kpj.meduniwien.ac.at/lehrkrankenhaeuser/         kpj  meduniwien   \n2              https://neurologie.meduniwien.ac.at/  neurologie  meduniwien   \n3                      http://kjp.meduniwien.ac.at/         kjp  meduniwien   \n4                           https://www.bruker.com/         www      bruker   \n\n  suffix              host relationship_type related_grid_id  \n0  ac.at  meduniwien.ac.at               NaN             NaN  \n1  ac.at  meduniwien.ac.at               NaN             NaN  \n2  ac.at  meduniwien.ac.at               NaN             NaN  \n3  ac.at  meduniwien.ac.at               NaN             NaN  \n4    com        bruker.com               NaN             NaN  \n",
          "name": "stdout"
        }
      ]
    },
    {
      "metadata": {
        "trusted": true
      },
      "cell_type": "code",
      "source": "join_host_and_bearbeitet = join_host_and_bearbeitet.sort_values(by=['email']).reset_index(drop=True)",
      "execution_count": 13,
      "outputs": []
    },
    {
      "metadata": {
        "trusted": true
      },
      "cell_type": "code",
      "source": "join_host_and_bearbeitet.to_csv('merge_v2.csv')",
      "execution_count": 14,
      "outputs": []
    },
    {
      "metadata": {
        "trusted": true
      },
      "cell_type": "code",
      "source": "show_result = pd.read_csv('merge_v2.csv', index_col = 0, usecols = ['email','name', 'grid_id'])",
      "execution_count": 24,
      "outputs": []
    },
    {
      "metadata": {
        "trusted": true
      },
      "cell_type": "code",
      "source": "print(show_result.to_string())",
      "execution_count": 25,
      "outputs": [
        {
          "output_type": "stream",
          "text": "                                  grid_id                                               name\nemail                                                                                       \n                                      NaN                                                NaN\n                                      NaN                                                NaN\n                                      NaN                                                NaN\n                                      NaN                                                NaN\n                                      NaN                                                NaN\n126.com                               NaN                                                NaN\nOutlook.com                           NaN                                                NaN\naau.in                      grid.411373.3                      Anand Agricultural University\nadm.cgmh.org.tw             grid.454209.e               Keelung Chang Gung Memorial Hospital\nadm.cgmh.org.tw             grid.454210.6               Taoyuan Chang Gung Memorial Hospital\nadm.cgmh.org.tw             grid.454211.7                Linkou Chang Gung Memorial Hospital\nadm.cgmh.org.tw             grid.454212.4                Chiayi Chang Gung Memorial Hospital\nadm.cgmh.org.tw             grid.413801.f                       Chang Gung Memorial Hospital\nadm.cgmh.org.tw             grid.413798.0                     Chang Gung Children's Hospital\nadm.cgmh.org.tw             grid.413804.a             Kaohsiung Chang Gung Memorial Hospital\nagh.edu.pl                    grid.9922.0           AGH University of Science and Technology\namc.nl                        grid.5650.6                            Academic Medical Center\namc.uva.nl                  grid.450166.0  Nederlands Instituut voor Wetenschappelijke In...\namc.uva.nl                    grid.7177.6                            University of Amsterdam\namc.uva.nl                  grid.450166.0  Nederlands Instituut voor Wetenschappelijke In...\namc.uva.nl                    grid.7177.6                            University of Amsterdam\namc.uva.nl                  grid.450166.0  Nederlands Instituut voor Wetenschappelijke In...\namc.uva.nl                    grid.7177.6                            University of Amsterdam\namu.edu.pl                    grid.5633.3               Adam Mickiewicz University in Poznań\naok.pte.hu                    grid.9679.1                                 University of Pecs\nastrazeneca.com                       NaN                                                NaN\nbartshealth.nhs.uk          grid.139534.9                             Barts Health NHS Trust\nbath.ac.uk                    grid.7340.0                                 University of Bath\nbayer.com                             NaN                                                NaN\nbc3research.org             grid.423984.0                   Basque Centre for Climate Change\nbham.ac.uk                            NaN                                                NaN\nbham.ac.uk                            NaN                                                NaN\nbiofilm.montana.edu         grid.460394.c                    Montana State University System\nbris.ac.uk                            NaN                                                NaN\nbrown.edu                   grid.40263.33                                   Brown University\nbrown.edu                   grid.447155.6                          John Carter Brown Library\nbruker.com                  grid.423270.0                             Bruker (United States)\nbrunel.ac.uk                  grid.7728.a                           Brunel University London\nbsi.ru.nl                     grid.5590.9                        Radboud University Nijmegen\ncaas.cn                               NaN                                                NaN\ncam.ac.uk                   grid.423328.c             Cambridge Crystallographic Data Centre\ncam.ac.uk                   grid.423328.c             Cambridge Crystallographic Data Centre\ncam.ac.uk                   grid.457394.8                                     Darwin College\ncam.ac.uk                   grid.479143.c         Faraday Institute for Science and Religion\ncam.ac.uk                   grid.497053.c                                    Woolf Institute\ncam.ac.uk                   grid.457394.8                                     Darwin College\ncam.ac.uk                   grid.479143.c         Faraday Institute for Science and Religion\ncam.ac.uk                   grid.483803.4                                 Isaac Newton Trust\ncam.ac.uk                     grid.5335.0                            University of Cambridge\ncam.ac.uk                   grid.483803.4                                 Isaac Newton Trust\ncam.ac.uk                   grid.479143.c         Faraday Institute for Science and Religion\ncam.ac.uk                     grid.5335.0                            University of Cambridge\ncam.ac.uk                   grid.457394.8                                     Darwin College\ncam.ac.uk                   grid.483803.4                                 Isaac Newton Trust\ncam.ac.uk                     grid.5335.0                            University of Cambridge\ncam.ac.uk                   grid.497053.c                                    Woolf Institute\ncam.ac.uk                   grid.497053.c                                    Woolf Institute\ncam.ac.uk                   grid.423328.c             Cambridge Crystallographic Data Centre\ncardiff.ac.uk                 grid.5600.3                                 Cardiff University\ncardiov.ox.ac.uk            grid.467568.e                                       Rhodes Trust\ncardiov.ox.ac.uk            grid.500580.8                   Museum of the History of Science\ncardiov.ox.ac.uk              grid.4991.5                               University of Oxford\ncdc.gov                               NaN                                                NaN\ncern.ch                       grid.9132.9         European Organization for Nuclear Research\ncicy.mx                               NaN                                                NaN\ncms.caltech.edu             grid.20861.3d                 California Institute of Technology\ncos.uni-heidelberg.de         grid.7700.0                              Heidelberg University\ncos.uni-heidelberg.de       grid.461593.c      Heidelberg Academy of Sciences and Humanities\ncos.uni-heidelberg.de         grid.5253.1                     University Hospital Heidelberg\ncox.net                               NaN                                                NaN\ncp3-origins.net                       NaN                                                NaN\ncrc.jussieu.fr                        NaN                                                NaN\ncrt-dresden.de                        NaN                                                NaN\ncuhk.edu.hk                 grid.10784.3a                    Chinese University of Hong Kong\nduke-nus.edu.sg             grid.428397.3                   Duke NUS Graduate Medical School\nduke.edu                    grid.26009.3d                                    Duke University\ndurham.ac.uk                          NaN                                                NaN\ndwc.doshisha.ac.jp          grid.471492.d       Doshisha Kaori Junior and Senior High School\ndwc.doshisha.ac.jp          grid.471485.b  Doshisha International Junior and Senior High ...\ndwc.doshisha.ac.jp          grid.255178.c                                Doshisha University\nebc.uu.se                   grid.451863.d                            Nordic Africa Institute\nebc.uu.se                     grid.8993.b                                 Uppsala University\nec.europa.eu                grid.494126.c  European Union Agency for Law Enforcement Coop...\nec.europa.eu                grid.453396.e                                     European Union\nec.europa.eu                grid.454805.8                            Fuel Cells and Hydrogen\nec.europa.eu                grid.454814.8                    Innovative Medicines Initiative\nec.europa.eu                grid.468131.9  Community Research and Development Information...\nec.europa.eu                grid.483440.f                     European Food Safety Authority\necust.edu.cn                grid.28056.39    East China University of Science and Technology\ned.ac.uk                    grid.498015.1                                 Edinburgh Genomics\ned.ac.uk                    grid.415241.7        Princess Margaret Rose Orthopaedic Hospital\ned.ac.uk                      grid.4305.2                            University of Edinburgh\ned.ac.uk                    grid.452306.6       Centre for Immunity, Infection and Evolution\nemail.arizona.edu                     NaN                                                NaN\nemr.ac.uk                   grid.420822.e             East Malling Research (United Kingdom)\nepfl.ch                       grid.5333.6           École Polytechnique Fédérale de Lausanne\nerasmusmc.nl                  grid.5645.2                  Erasmus University Medical Center\nexeter.ac.uk                  grid.8391.3                               University of Exeter\nexponent.com                grid.418983.f                           Exponent (United States)\nfsw.leidenuniv.nl                     NaN                                                NaN\nfz-juelich.de                         NaN                                                NaN\nfz-juelich.de                         NaN                                                NaN\ngic.se                                NaN                                                NaN\nglasgow.ac.uk                         NaN                                                NaN\ngmail.com                             NaN                                                NaN\ngmail.com                             NaN                                                NaN\ngmail.com                             NaN                                                NaN\ngmail.com                             NaN                                                NaN\ngmail.com                             NaN                                                NaN\ngmail.com                             NaN                                                NaN\ngmail.com                             NaN                                                NaN\ngmail.com                             NaN                                                NaN\ngreenwich.ac.uk                       NaN                                                NaN\nhc-sc.gc.ca                 grid.57544.37                                      Health Canada\nhelsinki.fi                   grid.7737.4                             University of Helsinki\nhotmail.com                           NaN                                                NaN\nhoustonmethodist.org        grid.490196.3              Houston Methodist Sugar Land Hospital\nhoustonmethodist.org        grid.490196.3              Houston Methodist Sugar Land Hospital\nhoustonmethodist.org        grid.415073.4                     San Jacinto Methodist Hospital\nhoustonmethodist.org        grid.63368.38                                  Houston Methodist\nhoustonmethodist.org        grid.63368.38                                  Houston Methodist\nhoustonmethodist.org        grid.415073.4                     San Jacinto Methodist Hospital\nhsph.harvard.edu            grid.419291.6                       Rowland Institute at Harvard\nhsph.harvard.edu            grid.280934.4                      Judge Baker Children's Center\nhsph.harvard.edu            grid.477947.e                  Dana Farber Harvard Cancer Center\nhsph.harvard.edu            grid.38142.3c                                 Harvard University\nhsph.harvard.edu            grid.452581.f                      Harvard NeuroDiscovery Center\nhsph.harvard.edu            grid.38142.3c                                 Harvard University\nhsph.harvard.edu            grid.419291.6                       Rowland Institute at Harvard\nhsph.harvard.edu            grid.280934.4                      Judge Baker Children's Center\nhsph.harvard.edu            grid.477947.e                  Dana Farber Harvard Cancer Center\nhsph.harvard.edu            grid.452581.f                      Harvard NeuroDiscovery Center\nhw.ac.uk                    grid.472615.3                             Heriot-Watt University\nhw.ac.uk                      grid.9531.e                             Heriot-Watt University\ni-med.ac.at                 grid.410706.4                      University Hospital Innsbruck\ni-med.ac.at                   grid.5361.1                       Innsbruck Medical University\nicddrb.org                  grid.414142.6  International Centre for Diarrhoeal Disease Re...\nicloud.com                            NaN                                                NaN\nicr.ac.uk                             NaN                                                NaN\nifom.eu                       grid.7678.e               FIRC Institute of Molecular Oncology\niiphg.org                             NaN                                                NaN\nimbe.fr                               NaN                                                NaN\nimdik.pan.pl                grid.413454.3                         Polish Academy of Sciences\nimn.gliwice.pl              grid.425049.e                    Institute of Non-Ferrous Metals\nimn.gliwice.pl              grid.499058.9                                     Proen (Poland)\nimn.gliwice.pl              grid.460563.2  Ośrodek Badawczo-Rozwojowy Urządzeń Mechaniczn...\nimn.gliwice.pl              grid.425105.7                              Instytut Spawalnictwa\nimperial.ac.uk                        NaN                                                NaN\nimperial.ac.uk                        NaN                                                NaN\nindiana.edu                           NaN                                                NaN\ning.uc3m.es                   grid.7840.b                    Carlos III University of Madrid\ninrca.it                              NaN                                                NaN\njaredreser.com                        NaN                                                NaN\njuntendo.ac.jp              grid.258269.2                                Juntendo University\njuntendo.ac.jp              grid.411966.d                       Juntendo University Hospital\njuntendo.ac.jp              grid.482667.9              Juntendo University Shizuoka Hospital\njuntendo.ac.jp              grid.482668.6                Juntendo University Nerima Hospital\njuntendo.ac.jp              grid.482669.7               Juntendo University Urayasu Hospital\njyu.fi                      grid.419101.c              Research Institute for Olympic Sports\njyu.fi                        grid.9681.6                            University of Jyväskylä\nkaust.edu.sa                grid.45672.32  King Abdullah University of Science and Techno...\nki.se                       grid.465198.7         Karolinska Institutet Innovations (Sweden)\nki.se                         grid.4714.6                               Karolinska Institute\nkuleuven.be                   grid.5596.f                                          KU Leuven\nkuleuven.be                 grid.415751.3                Rega Institute for Medical Research\nlanl.gov                              NaN                                                NaN\nlbicr.lbg.ac.at             grid.419350.a                      Ludwig Boltzmann Gesellschaft\nlboro.ac.uk                   grid.6571.5                            Loughborough University\nleeds.ac.uk                   grid.9909.9                                University of Leeds\nleeds.ac.uk                 grid.24298.35                                  Timescape Surveys\nlincoln.ac.uk               grid.36511.30                              University of Lincoln\nliv.ac.uk                   grid.10025.36                            University of Liverpool\nltu.se                        grid.6926.b                     Luleå University of Technology\nmac.com                               NaN                                                NaN\nmail.usask.ca               grid.498703.1             Canadian Rural Health Research Society\nmail.usask.ca               grid.25152.31                         University of Saskatchewan\nmail.usask.ca               grid.440005.5            Canadian Agricultural Economics Society\nmanchester.ac.uk              grid.5379.8                           University of Manchester\nmcgill.ca                   grid.416102.0       Montreal Neurological Institute and Hospital\nmcgill.ca                   grid.14709.3b                                  McGill University\nmed.kuleuven.be             grid.415751.3                Rega Institute for Medical Research\nmed.kuleuven.be               grid.5596.f                                          KU Leuven\nmed.uni-muenchen.de         grid.491963.0  Klinik und Poliklinik für Orthopädie, Physikal...\nmed.uni-muenchen.de         grid.411095.8                   Klinikum der Universität München\nmed.uni-muenchen.de         grid.491993.f  Klinik und Poliklinik für Strahlentherapie und...\nmed.uni-muenchen.de           grid.5252.0             Ludwig Maximilian University of Munich\nmedicine.tamhsc.edu                   NaN                                                NaN\nmeduniwien.ac.at            grid.492160.8  Universitätsklinik für Kinder und Jugendpsychi...\nmeduniwien.ac.at            grid.488544.1                  Universitätsklinik für Neurologie\nmeduniwien.ac.at            grid.461839.1                                  Lehrkrankenhäuser\nmeduniwien.ac.at            grid.22937.3d                       Medical University of Vienna\nmeduniwien.ac.at            grid.492160.8  Universitätsklinik für Kinder und Jugendpsychi...\nmeduniwien.ac.at            grid.488544.1                  Universitätsklinik für Neurologie\nmeduniwien.ac.at            grid.461839.1                                  Lehrkrankenhäuser\nmeduniwien.ac.at            grid.22937.3d                       Medical University of Vienna\nmentalhealth.org.uk         grid.474126.2                           Mental Health Foundation\nmmk.su.se                   grid.452300.0                   Centre for Health Equity Studies\nmmk.su.se                   grid.10548.38                               Stockholm University\nmmu.ac.uk                   grid.25627.34                 Manchester Metropolitan University\nmmu.ac.uk                   grid.25627.34                 Manchester Metropolitan University\nmoorfields.nhs.uk           grid.436474.6       Moorfields Eye Hospital NHS Foundation Trust\nmst.nl                                NaN                                                NaN\nnasa.gov                    grid.426671.0                                     Aero Institute\nncl.ac.uk                     grid.1006.7                               Newcastle University\nncl.ac.uk                   grid.472342.4             Newcastle University Medicine Malaysia\nncl.ac.uk                   grid.473733.7                     Newcastle University Singapore\nncl.ac.uk                   grid.500657.1             Natural History Society of Northumbria\nnhs.net                               NaN                                                NaN\nnii.ac.jp                   grid.250343.3                  National Institute of Informatics\nnioz.nl                               NaN                                                NaN\nnorthumbria.ac.uk           grid.42629.3b                             Northumbria University\nohsu.edu                    grid.433851.8                                   Vollum Institute\nohsu.edu                      grid.5288.7                 Oregon Health & Science University\nohsu.edu                    grid.410436.4            Oregon National Primate Research Center\nohsu.edu                    grid.414029.a                    Doernbecher Children's Hospital\nohsu.edu                    grid.488511.1      Oregon Health and Science University Hospital\nop.pl                                 NaN                                                NaN\nows.be                      grid.426189.0                    Organic Waste Systems (Belgium)\npangaea.de                            NaN                                                NaN\npg.com                      grid.418758.7                   Procter & Gamble (United States)\npsyk.uu.se                  grid.451863.d                            Nordic Africa Institute\npsyk.uu.se                    grid.8993.b                                 Uppsala University\nresearch.fchampalimaud.org  grid.421010.6                            Champalimaud Foundation\nrhul.ac.uk                            NaN                                                NaN\nrmit.edu.au                   grid.1017.7                                    RMIT University\nrutgers.edu                 grid.469130.9                          Rutgers University–Camden\nrutgers.edu                 grid.469131.8                          Rutgers University–Newark\nrutgers.edu                 grid.430387.b                                 Rutgers University\nrutgers.edu                 grid.414514.1  Environmental and Occupational Health Sciences...\nsapmed.ac.jp                grid.470107.5                Sapporo Medical University Hospital\nsapmed.ac.jp                grid.263171.0                         Sapporo Medical University\nscp.nl                      grid.438038.4          Netherlands Institute for Social Research\nsete.cnrs.fr                          NaN                                                NaN\nsggw.pl                     grid.13276.31                 Warsaw University of Life Sciences\nskku.edu                    grid.264381.a                            Sungkyunkwan University\nsnnu.edu.cn                 grid.412498.2                          Shaanxi Normal University\nspi.ox.ac.uk                grid.500580.8                   Museum of the History of Science\nspi.ox.ac.uk                grid.467568.e                                       Rhodes Trust\nspi.ox.ac.uk                  grid.4991.5                               University of Oxford\nst-andrews.ac.uk            grid.11914.3c                           University of St Andrews\nstjude.org                            NaN                                                NaN\nstrath.ac.uk                grid.11984.35                          University of Strathclyde\nstrath.ac.uk                grid.11984.35                          University of Strathclyde\nstrubi.ox.ac.uk               grid.4991.5                               University of Oxford\nstrubi.ox.ac.uk             grid.500580.8                   Museum of the History of Science\nstrubi.ox.ac.uk             grid.467568.e                                       Rhodes Trust\nstu.kobe-u.ac.jp            grid.411102.7                           Kobe University Hospital\nstu.kobe-u.ac.jp            grid.31432.37                                    Kobe University\nstudent.bham.ac.uk                    NaN                                                NaN\nsu.se                       grid.10548.38                               Stockholm University\nsu.se                       grid.452300.0                   Centre for Health Equity Studies\nsurg1.med.osaka-u.ac.jp     grid.136593.b                                   Osaka University\nsurg1.med.osaka-u.ac.jp     grid.412398.5                          Osaka University Hospital\ntin.it                                NaN                                                NaN\ntu-berlin.de                  grid.6734.6                     Technical University of Berlin\ntue.nl                      grid.493400.a  Institute for Programming research and Algorit...\ntue.nl                        grid.6852.9                 Eindhoven University of Technology\ntuhh.de                       grid.6884.2                   Hamburg University of Technology\nubc.ca                      grid.498725.5  Centre for Health Evaluation and Outcome Sciences\nubc.ca                      grid.498725.5  Centre for Health Evaluation and Outcome Sciences\nucar.edu                    grid.413455.2    University Corporation for Atmospheric Research\nucc.ie                      grid.421993.4                  Universal Sensors (United States)\nucdenver.edu                grid.414594.9                   Colorado School of Public Health\nucdenver.edu                grid.499234.1               University of Colorado Cancer Center\nuclouvain.be                  grid.7942.8                   Université Catholique de Louvain\nuclouvain.be                grid.412356.7                                    Hôpital Sahloul\nudel.edu                    grid.33489.35                             University of Delaware\nuhn.ca                      grid.417184.f                           Toronto General Hospital\nuhn.ca                      grid.231844.8                          University Health Network\nuhn.ca                      grid.417188.3                           Toronto Western Hospital\nuic.edu                               NaN                                                NaN\numcg.nl                       grid.4494.d                University Medical Center Groningen\numd.edu                     grid.481376.f                   University of Maryland Extension\numd.edu                     grid.452566.6                      Joint Space Science Institute\numl.edu                               NaN                                                NaN\numu.se                      grid.12650.30                                    Umeå University\numu.se                      grid.468467.f      Centre for Biomedical Engineering and Physics\nuni-graz.at                   grid.5110.5                                 University of Graz\nuni-hamburg.de                grid.9026.d                              University of Hamburg\nuni-koeln.de                  grid.6190.e                              University of Cologne\nuni-koeln.de                grid.452408.f  Cologne Excellence Cluster on Cellular Stress ...\nuni-koeln.de                grid.465289.4       Rhenish Institute for Environmental Research\nuni-koeln.de                grid.500260.1  Institute of Energy Economics at the Universit...\nunich.it                    grid.412451.7                       University of Chieti-Pescara\nunige.ch                      grid.8591.5                               University of Geneva\nunimelb.edu.au                grid.1008.9                            University of Melbourne\nunivie.ac.at                grid.10420.37                               University of Vienna\nusal.es                     grid.11762.33                            University of Salamanca\nutoronto.ca                 grid.440112.2          Canadian Society for Mesopotamian Studies\nutoronto.ca                 grid.17063.33                              University of Toronto\nutu.fi                        grid.1374.1                                University of Turku\nuva.nl                        grid.7177.6                            University of Amsterdam\nuva.nl                      grid.450166.0  Nederlands Instituut voor Wetenschappelijke In...\nuva.nl                        grid.7177.6                            University of Amsterdam\nuva.nl                      grid.450166.0  Nederlands Instituut voor Wetenschappelijke In...\nuzh.ch                        grid.7400.3                               University of Zurich\nuzh.ch                      grid.412341.1              University Children's Hospital Zurich\nvgregion.se                 grid.468026.e                            Södra Älvsborg Hospital\nvgregion.se                 grid.415366.3                             Folktandvården Kyrkbyn\nvgregion.se                 grid.452005.6                   Västra Götaland Regional Council\nvgregion.se                 grid.416029.8                                 Skaraborg Hospital\nvgregion.se                 grid.466872.9                                   Kungälvs sjukhus\nvgregion.se                 grid.413652.7                             Kärnsjukhuset i Skövde\nvumc.nl                     grid.16872.3a                       VU University Medical Center\nwa.amu.edu.pl                 grid.5633.3               Adam Mickiewicz University in Poznań\nwho-umc.org                 grid.420224.2                          Uppsala Monitoring Centre\nwip.pcz.pl                  grid.34197.38               Częstochowa University of Technology\nwip.pcz.pl                  grid.34197.38               Częstochowa University of Technology\nwp.pl                                 NaN                                                NaN\nwur.nl                                NaN                                                NaN\nxmu.edu.cn                  grid.12955.3a                                  Xiamen University\nyahoo.co.jp                           NaN                                                NaN\nyahoo.com                   grid.473825.f                             Yahoo (United Kingdom)\nyahoo.com                   grid.473825.f                             Yahoo (United Kingdom)\nyahoo.com                   grid.426479.a                                      Yahoo (Spain)\nyahoo.com                   grid.426479.a                                      Yahoo (Spain)\nyahoo.com                   grid.471324.7                              Yahoo (United States)\nyahoo.com                   grid.471324.7                              Yahoo (United States)\nyale.edu                    grid.47100.32                                    Yale University\nyale.edu                    grid.249445.a                               Haskins Laboratories\nyokohama-cu.ac.jp           grid.470126.6                  Yokohama City University Hospital\nyokohama-cu.ac.jp           grid.268441.d                           Yokohama City University\nyokohama-cu.ac.jp           grid.413045.7            Yokohama City University Medical Center\nyokohama-cu.ac.jp           grid.471657.6           Kihara Institute for Biological Research\nzoetis.com                            NaN                                                NaN\n",
          "name": "stdout"
        }
      ]
    },
    {
      "metadata": {
        "trusted": true
      },
      "cell_type": "code",
      "source": "print(get_host('wp.pl'))",
      "execution_count": 17,
      "outputs": [
        {
          "output_type": "stream",
          "text": "wp.pl\n",
          "name": "stdout"
        }
      ]
    },
    {
      "metadata": {
        "trusted": true
      },
      "cell_type": "code",
      "source": "join_host_and_bearbeitet['grid_id'].isnull().sum()",
      "execution_count": 18,
      "outputs": [
        {
          "output_type": "execute_result",
          "execution_count": 18,
          "data": {
            "text/plain": "64"
          },
          "metadata": {}
        }
      ]
    },
    {
      "metadata": {
        "trusted": true
      },
      "cell_type": "code",
      "source": "(join_host_and_bearbeitet['email'] == ' ').sum()",
      "execution_count": 19,
      "outputs": [
        {
          "output_type": "execute_result",
          "execution_count": 19,
          "data": {
            "text/plain": "5"
          },
          "metadata": {}
        }
      ]
    },
    {
      "metadata": {
        "trusted": true
      },
      "cell_type": "code",
      "source": "print(len(join_host_and_bearbeitet))",
      "execution_count": 20,
      "outputs": [
        {
          "output_type": "stream",
          "text": "325\n",
          "name": "stdout"
        }
      ]
    },
    {
      "metadata": {
        "trusted": true
      },
      "cell_type": "code",
      "source": "print((join_host_and_bearbeitet['grid_id'].isnull().sum()/len(join_host_and_bearbeitet))*100)",
      "execution_count": 21,
      "outputs": [
        {
          "output_type": "stream",
          "text": "19.692307692307693\n",
          "name": "stdout"
        }
      ]
    },
    {
      "metadata": {
        "trusted": true
      },
      "cell_type": "code",
      "source": "print(len(join_host_and_bearbeitet['name'].unique()))",
      "execution_count": 22,
      "outputs": [
        {
          "output_type": "stream",
          "text": "209\n",
          "name": "stdout"
        }
      ]
    },
    {
      "metadata": {
        "trusted": true
      },
      "cell_type": "code",
      "source": "print(len(join_host_and_bearbeitet['email'].unique()))",
      "execution_count": 23,
      "outputs": [
        {
          "output_type": "stream",
          "text": "173\n",
          "name": "stdout"
        }
      ]
    },
    {
      "metadata": {
        "trusted": true
      },
      "cell_type": "code",
      "source": "# to do: häufigere fehlende email matchings dadurch zu erklären, dass child fehlt -> ergänzen\n#        plot\n#        string vergleich der subdomain nach länge",
      "execution_count": null,
      "outputs": []
    }
  ],
  "metadata": {
    "kernelspec": {
      "name": "python36",
      "display_name": "Python 3.6",
      "language": "python"
    },
    "language_info": {
      "mimetype": "text/x-python",
      "nbconvert_exporter": "python",
      "name": "python",
      "pygments_lexer": "ipython3",
      "version": "3.6.6",
      "file_extension": ".py",
      "codemirror_mode": {
        "version": 3,
        "name": "ipython"
      }
    }
  },
  "nbformat": 4,
  "nbformat_minor": 2
}
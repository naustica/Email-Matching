{
  "cells": [
    {
      "metadata": {},
      "cell_type": "markdown",
      "source": "# Thema: Organisations-IDs für wissenschaftliche Einrichtungen anhand von Emailadressen gewinnen"
    },
    {
      "metadata": {},
      "cell_type": "markdown",
      "source": "### 1 Fragestellung\nDie Aufgabe bestand darin, die Emailadressen den entsprechenden Institutionen zuzuordnen.\n\nDie Datenquellen dafür waren:\n - GRID Open Data Dump https://figshare.com/articles/GRID_release_2018-11-14/7346852\n(Darin sind Tabellen mit Informationen zu Institutionen, die jew. durch ihre Grid-Id identifiziert werden, sowie Akronyme, Adressen, andere Bezeichnungen für die Institutionen, weitere Ids, uvm. wie z.B. eine Datei, in der das Verhältnis der verschiedenen Institutionen zueinander verzeichnet ist, z.B. Institute, die ihrer Universität untergeordnet sind.)\n\n\n - die Datei guete_bearbeitet.csv, die im Rahmen unserer ersten Aufgabe zur Güte von Recall und Precision erstellt wurde."
    },
    {
      "metadata": {},
      "cell_type": "markdown",
      "source": "### 2 Vorgehen\nAufgabe: Matching domains mit GRID Webseiten-URLs\n\nDie Grundidee ist, mithilfe der Programmierbibliothek Pandas von Python passende Spalten aus den vielen verschiedenen Datenquellen per „Merge“ zusammenzustellen. So soll man am Ende die Emailadressen den Institutionen zuordnen können."
    },
    {
      "metadata": {
        "trusted": true
      },
      "cell_type": "code",
      "source": "#pip install tldextract\nimport tldextract as tld\nimport pandas as pd\nimport matplotlib.pyplot as plt\nimport numpy as np\nfrom urllib.parse import urlparse",
      "execution_count": 39,
      "outputs": []
    },
    {
      "metadata": {
        "trusted": true
      },
      "cell_type": "code",
      "source": "# Funktionen zum parsen der Url \ndef extract_domain(link):\n    link = tld.extract(link)\n    return link.domain\n\ndef extract_suffix(link):\n    link = tld.extract(link)\n    return link.suffix\n\ndef extract_subdomain(link):\n    link = tld.extract(link)\n    return link.subdomain\n\ndef get_host(link):\n    domain = extract_domain(link)\n    suffix = extract_suffix(link)\n    host = str(domain) + '.' + str(suffix)\n    return host",
      "execution_count": 2,
      "outputs": []
    },
    {
      "metadata": {
        "trusted": true
      },
      "cell_type": "code",
      "source": "# Einlesen der CSV-Dateien\nbearbeitet = pd.read_csv('guete_bearbeitet.csv', index_col = 0)\ninstitutes = pd.read_csv('institutes.csv', usecols=['grid_id','name'])\nlinks = pd.read_csv('links.csv')\nrelationships = pd.read_csv('relationships.csv', usecols=['relationship_type', 'related_grid_id'])",
      "execution_count": 3,
      "outputs": []
    },
    {
      "metadata": {},
      "cell_type": "markdown",
      "source": "Zunächst wurden die Dateien links und institutes\" durch \"merge\" basierend auf der beiden gemeinsamen Spalte \"grid_id\" zusammengefügt in der neuen Datei name_and_link."
    },
    {
      "metadata": {
        "trusted": true
      },
      "cell_type": "code",
      "source": "# merge institutes.csv mit links.csv\nname_and_link = institutes.merge(links, on='grid_id')",
      "execution_count": 4,
      "outputs": []
    },
    {
      "metadata": {
        "trusted": true
      },
      "cell_type": "code",
      "source": "# generieren der subdomain, domain, suffix und host\nname_and_link['subdomain'] = name_and_link['link'].apply(extract_subdomain)\nname_and_link['domain'] = name_and_link['link'].apply(extract_domain)\nname_and_link['suffix'] = name_and_link['link'].apply(extract_suffix)\nname_and_link['host'] = name_and_link['link'].apply(get_host)\n\n# generieren des hosts für email\nbearbeitet['mail_host'] = bearbeitet['email'].apply(get_host)",
      "execution_count": 5,
      "outputs": []
    },
    {
      "metadata": {
        "trusted": true
      },
      "cell_type": "code",
      "source": "# exkludieren der child-Institute\nchild = relationships[relationships['relationship_type'] == 'Child']\nchild = name_and_link.merge(child, how='left', left_on='grid_id', right_on='related_grid_id')\n#print(child.head(200))\nparent = child[child.relationship_type != 'Child']\n#print(parent.head(200))",
      "execution_count": 6,
      "outputs": []
    },
    {
      "metadata": {
        "trusted": true
      },
      "cell_type": "code",
      "source": "print(parent.head())",
      "execution_count": 7,
      "outputs": [
        {
          "output_type": "stream",
          "text": "       grid_id                            name                      link  \\\n0  grid.1001.0  Australian National University    http://www.anu.edu.au/   \n1  grid.1002.3               Monash University    http://www.monash.edu/   \n2  grid.1003.2        University of Queensland     http://www.uq.edu.au/   \n3  grid.1004.5            Macquarie University         http://mq.edu.au/   \n4  grid.1005.4                  UNSW Australia  https://www.unsw.edu.au/   \n\n  subdomain  domain  suffix         host relationship_type related_grid_id  \n0       www     anu  edu.au   anu.edu.au               NaN             NaN  \n1       www  monash     edu   monash.edu               NaN             NaN  \n2       www      uq  edu.au    uq.edu.au               NaN             NaN  \n3                mq  edu.au    mq.edu.au               NaN             NaN  \n4       www    unsw  edu.au  unsw.edu.au               NaN             NaN  \n",
          "name": "stdout"
        }
      ]
    },
    {
      "metadata": {
        "trusted": true
      },
      "cell_type": "code",
      "source": "parent.to_csv('parent.csv')",
      "execution_count": 8,
      "outputs": []
    },
    {
      "metadata": {
        "trusted": true
      },
      "cell_type": "code",
      "source": "matches_parent = pd.merge(bearbeitet, parent, how='left', left_on='mail_host', right_on='host')",
      "execution_count": 9,
      "outputs": []
    },
    {
      "metadata": {
        "trusted": true
      },
      "cell_type": "code",
      "source": "print(matches_parent.head())",
      "execution_count": 10,
      "outputs": [
        {
          "output_type": "stream",
          "text": "              email                                            tdm_url  \\\n0  meduniwien.ac.at  https://api.elsevier.com/content/article/PII:S...   \n1  meduniwien.ac.at  https://api.elsevier.com/content/article/PII:S...   \n2  meduniwien.ac.at  https://api.elsevier.com/content/article/PII:S...   \n3  meduniwien.ac.at  https://api.elsevier.com/content/article/PII:S...   \n4        bruker.com  http://link.springer.com/article/10.1007/s1183...   \n\n                time_stamp    mine_method                          doi  \\\n0  2018-12-17 16:06:12 UTC   Elsevier XML  10.1016/j.ddtec.2014.03.009   \n1  2018-12-17 16:06:12 UTC   Elsevier XML  10.1016/j.ddtec.2014.03.009   \n2  2018-12-17 16:06:12 UTC   Elsevier XML  10.1016/j.ddtec.2014.03.009   \n3  2018-12-17 16:06:12 UTC   Elsevier XML  10.1016/j.ddtec.2014.03.009   \n4  2018-12-18 08:00:29 UTC  Springer HTML    10.1007/s11837-018-2752-0   \n\n   recall  precision comment         mail_host        grid_id  \\\n0    True       True     NaN  meduniwien.ac.at  grid.22937.3d   \n1    True       True     NaN  meduniwien.ac.at  grid.461839.1   \n2    True       True     NaN  meduniwien.ac.at  grid.488544.1   \n3    True       True     NaN  meduniwien.ac.at  grid.492160.8   \n4    True       True     NaN        bruker.com  grid.423270.0   \n\n                                                name  \\\n0                       Medical University of Vienna   \n1                                  Lehrkrankenhäuser   \n2                  Universitätsklinik für Neurologie   \n3  Universitätsklinik für Kinder und Jugendpsychi...   \n4                             Bruker (United States)   \n\n                                               link   subdomain      domain  \\\n0  http://www.meduniwien.ac.at/homepage/1/homepage/         www  meduniwien   \n1   http://kpj.meduniwien.ac.at/lehrkrankenhaeuser/         kpj  meduniwien   \n2              https://neurologie.meduniwien.ac.at/  neurologie  meduniwien   \n3                      http://kjp.meduniwien.ac.at/         kjp  meduniwien   \n4                           https://www.bruker.com/         www      bruker   \n\n  suffix              host relationship_type related_grid_id  \n0  ac.at  meduniwien.ac.at               NaN             NaN  \n1  ac.at  meduniwien.ac.at               NaN             NaN  \n2  ac.at  meduniwien.ac.at               NaN             NaN  \n3  ac.at  meduniwien.ac.at               NaN             NaN  \n4    com        bruker.com               NaN             NaN  \n",
          "name": "stdout"
        }
      ]
    },
    {
      "metadata": {
        "trusted": true
      },
      "cell_type": "code",
      "source": "matches_parent = matches_parent.sort_values(by=['email']).reset_index(drop=True)",
      "execution_count": 11,
      "outputs": []
    },
    {
      "metadata": {
        "trusted": true
      },
      "cell_type": "code",
      "source": "# durch die wegnahme der child_elemente konnten einige emails nicht gematcht werden. Dies wird im folgen Schritt behoben.\nadd_missings = matches_parent[matches_parent['grid_id'].isnull()]",
      "execution_count": 12,
      "outputs": []
    },
    {
      "metadata": {
        "trusted": true
      },
      "cell_type": "code",
      "source": "add_missings = add_missings.drop(['subdomain', 'domain', 'suffix', 'host', 'grid_id', 'related_grid_id', 'name', 'link', 'relationship_type'], axis=1)\nadd_missings = add_missings.merge(name_and_link, how='left', left_on='mail_host', right_on='host')",
      "execution_count": 13,
      "outputs": []
    },
    {
      "metadata": {
        "trusted": true
      },
      "cell_type": "code",
      "source": "add_missings = add_missings.drop_duplicates().reset_index(drop=True)",
      "execution_count": 14,
      "outputs": []
    },
    {
      "metadata": {
        "trusted": true
      },
      "cell_type": "code",
      "source": "matches_parent = matches_parent[pd.notnull(matches_parent['grid_id'])]",
      "execution_count": 15,
      "outputs": []
    },
    {
      "metadata": {
        "trusted": true
      },
      "cell_type": "code",
      "source": "matches_all = pd.concat([matches_parent, add_missings])\nmatches_all = matches_all.sort_values(by=['email']).reset_index(drop=True)",
      "execution_count": 16,
      "outputs": []
    },
    {
      "metadata": {
        "trusted": true
      },
      "cell_type": "code",
      "source": "print(matches_all[['email', 'name']].head(10))",
      "execution_count": 17,
      "outputs": [
        {
          "output_type": "stream",
          "text": "             email                                  name\n0                                                    NaN\n1                                                    NaN\n2                                                    NaN\n3                                                    NaN\n4                                                    NaN\n5          126.com                                   NaN\n6      Outlook.com                                   NaN\n7           aau.in         Anand Agricultural University\n8  adm.cgmh.org.tw   Linkou Chang Gung Memorial Hospital\n9  adm.cgmh.org.tw  Keelung Chang Gung Memorial Hospital\n",
          "name": "stdout"
        }
      ]
    },
    {
      "metadata": {
        "trusted": true
      },
      "cell_type": "code",
      "source": "matches_all = matches_all[['email', 'tdm_url', 'time_stamp', 'mine_method', 'doi', 'recall', 'precision', 'comment', 'mail_host', 'grid_id', 'name', 'link', 'subdomain', 'domain', 'suffix', 'host']]",
      "execution_count": 18,
      "outputs": []
    },
    {
      "metadata": {
        "trusted": true
      },
      "cell_type": "code",
      "source": "matches_all.to_csv('matches_all.csv')",
      "execution_count": 19,
      "outputs": []
    },
    {
      "metadata": {
        "trusted": true
      },
      "cell_type": "code",
      "source": "# Annahme: hosts mit einer kürzeren subdomain sind Hauptakteure. Im folgenden werden die Institutionen mit der kürzesten subdomain gefiltert.\ndataframes = []\nfor host in matches_all.host.unique():\n    filter_host = matches_all[matches_all.host == host]\n    filter_subdomain = filter_host['subdomain'].values\n    min_length_subdomain = 100\n    min_subdomain = ''\n    for element in filter_subdomain:\n        if len(element) < min_length_subdomain:\n            min_length_subdomain = len(element)\n            min_subdomain = element\n        else:\n            continue\n    save_dataframe = filter_host[filter_host.subdomain == min_subdomain]\n    dataframes.append(save_dataframe)\n    \n\nsubdomain_dataframe = pd.concat(dataframes)\nsubdomain_dataframe = subdomain_dataframe.drop_duplicates().reset_index(drop=True)\nprint(subdomain_dataframe[['email', 'name']].head(10))",
      "execution_count": 37,
      "outputs": [
        {
          "output_type": "stream",
          "text": "             email                                      name\n0           aau.in             Anand Agricultural University\n1  adm.cgmh.org.tw      Keelung Chang Gung Memorial Hospital\n2  adm.cgmh.org.tw      Taoyuan Chang Gung Memorial Hospital\n3  adm.cgmh.org.tw    Kaohsiung Chang Gung Memorial Hospital\n4  adm.cgmh.org.tw       Chiayi Chang Gung Memorial Hospital\n5  adm.cgmh.org.tw              Chang Gung Memorial Hospital\n6  adm.cgmh.org.tw            Chang Gung Children's Hospital\n7       agh.edu.pl  AGH University of Science and Technology\n8           amc.nl                   Academic Medical Center\n9       amc.uva.nl                   University of Amsterdam\n",
          "name": "stdout"
        }
      ]
    },
    {
      "metadata": {
        "trusted": true
      },
      "cell_type": "code",
      "source": "# Annahme: paths von URLs mit einer kurzen Ordnerhierarchie und/oder einer index.html bzw. index.php datei weisen auf Hauptakteure einer Institution hin.\ndataframes = []\nfor host in subdomain_dataframe.host.unique():\n    filter_host = subdomain_dataframe[subdomain_dataframe.host == host]\n    filter_link = filter_host['link'].values\n    preferred_link = ''\n    preferred_list = []\n    hierarchy_count = 10\n    for link in filter_link:\n        parsed_url = urlparse(link)\n        iterationen = parsed_url.path.count('/')\n        if iterationen < hierarchy_count:\n            preferred_link = link\n            hierarchy_count = iterationen\n        elif iterationen == hierarchy_count:\n            preferred_list.append(link)\n            hierarchy_count = iterationen\n        else:\n            continue\n    \n    preferred_list.append(preferred_link)\n\n    for link in preferred_list:\n        if link.endswith('html'):\n            preferred_link = link\n            break\n\n        elif link.endswith('php'):\n            preferred_link = link\n            break\n\n        else:\n            preferred_link = link\n    \n    save_dataframe = filter_host[filter_host.link == preferred_link]\n    dataframes.append(save_dataframe)\n    \n\nsolution = pd.concat(dataframes)\nsolution = solution.drop_duplicates().reset_index(drop=True)\nprint(solution[['email', 'name']].to_string())",
      "execution_count": 38,
      "outputs": [
        {
          "output_type": "stream",
          "text": "                          email                                               name\n0                        aau.in                      Anand Agricultural University\n1               adm.cgmh.org.tw               Keelung Chang Gung Memorial Hospital\n2                    agh.edu.pl           AGH University of Science and Technology\n3                        amc.nl                            Academic Medical Center\n4                    amc.uva.nl                            University of Amsterdam\n5                    amc.uva.nl                            University of Amsterdam\n6                    amc.uva.nl                            University of Amsterdam\n7                        uva.nl                            University of Amsterdam\n8                        uva.nl                            University of Amsterdam\n9                    amu.edu.pl               Adam Mickiewicz University in Poznań\n10                wa.amu.edu.pl               Adam Mickiewicz University in Poznań\n11                   aok.pte.hu                                 University of Pecs\n12              astrazeneca.com                          AstraZeneca (Switzerland)\n13           bartshealth.nhs.uk                             Barts Health NHS Trust\n14                   bath.ac.uk                                 University of Bath\n15              bc3research.org                   Basque Centre for Climate Change\n16          biofilm.montana.edu                    Montana State University System\n17                    brown.edu                                   Brown University\n18                   bruker.com                             Bruker (United States)\n19                 brunel.ac.uk                           Brunel University London\n20                    bsi.ru.nl                        Radboud University Nijmegen\n21                      caas.cn                              Institute of Pomology\n22                    cam.ac.uk                            University of Cambridge\n23                    cam.ac.uk                            University of Cambridge\n24                    cam.ac.uk                            University of Cambridge\n25                cardiff.ac.uk                                 Cardiff University\n26             cardiov.ox.ac.uk                               University of Oxford\n27                 spi.ox.ac.uk                               University of Oxford\n28              strubi.ox.ac.uk                               University of Oxford\n29                      cdc.gov  Center for Surveillance, Epidemiology, and Lab...\n30                      cern.ch         European Organization for Nuclear Research\n31              cms.caltech.edu                 California Institute of Technology\n32        cos.uni-heidelberg.de                              Heidelberg University\n33               crc.jussieu.fr                 Centre de Recherche des Cordeliers\n34                  cuhk.edu.hk                    Chinese University of Hong Kong\n35              duke-nus.edu.sg                   Duke NUS Graduate Medical School\n36                     duke.edu                                    Duke University\n37           dwc.doshisha.ac.jp                                Doshisha University\n38                    ebc.uu.se                                 Uppsala University\n39                   psyk.uu.se                                 Uppsala University\n40                 ec.europa.eu                                     European Union\n41                 ecust.edu.cn    East China University of Science and Technology\n42                     ed.ac.uk                            University of Edinburgh\n43            email.arizona.edu                              University of Arizona\n44                    emr.ac.uk             East Malling Research (United Kingdom)\n45                      epfl.ch           École Polytechnique Fédérale de Lausanne\n46                 erasmusmc.nl                  Erasmus University Medical Center\n47                 exeter.ac.uk                               University of Exeter\n48                 exponent.com                           Exponent (United States)\n49                fz-juelich.de                           Forschungszentrum Jülich\n50                fz-juelich.de                           Forschungszentrum Jülich\n51                  hc-sc.gc.ca                                      Health Canada\n52                  helsinki.fi                             University of Helsinki\n53         houstonmethodist.org                                  Houston Methodist\n54         houstonmethodist.org                                  Houston Methodist\n55             hsph.harvard.edu                                 Harvard University\n56             hsph.harvard.edu                                 Harvard University\n57                     hw.ac.uk                             Heriot-Watt University\n58                  i-med.ac.at                       Innsbruck Medical University\n59                   icddrb.org  International Centre for Diarrhoeal Disease Re...\n60                    icr.ac.uk                       Institute of Cancer Research\n61                      ifom.eu               FIRC Institute of Molecular Oncology\n62                 imdik.pan.pl                         Polish Academy of Sciences\n63               imn.gliwice.pl                                     Proen (Poland)\n64               imperial.ac.uk                            Imperial College London\n65               imperial.ac.uk                            Imperial College London\n66                  indiana.edu                     Indiana University Bloomington\n67                  ing.uc3m.es                    Carlos III University of Madrid\n68                     inrca.it    Istituto Nazionale di Riposo e Cura per Anziani\n69               juntendo.ac.jp                                Juntendo University\n70                       jyu.fi                            University of Jyväskylä\n71                 kaust.edu.sa  King Abdullah University of Science and Techno...\n72                        ki.se                               Karolinska Institute\n73                  kuleuven.be                                          KU Leuven\n74              med.kuleuven.be                                          KU Leuven\n75                     lanl.gov                     Los Alamos National Laboratory\n76              lbicr.lbg.ac.at                      Ludwig Boltzmann Gesellschaft\n77                  lboro.ac.uk                            Loughborough University\n78                  leeds.ac.uk                                University of Leeds\n79                lincoln.ac.uk                              University of Lincoln\n80                    liv.ac.uk                            University of Liverpool\n81                       ltu.se                     Luleå University of Technology\n82                mail.usask.ca                         University of Saskatchewan\n83             manchester.ac.uk                           University of Manchester\n84                    mcgill.ca                                  McGill University\n85          med.uni-muenchen.de             Ludwig Maximilian University of Munich\n86          medicine.tamhsc.edu                    Texas A&M Health Science Center\n87             meduniwien.ac.at                                  Lehrkrankenhäuser\n88             meduniwien.ac.at                                  Lehrkrankenhäuser\n89          mentalhealth.org.uk                           Mental Health Foundation\n90                    mmk.su.se                               Stockholm University\n91                        su.se                               Stockholm University\n92                    mmu.ac.uk                 Manchester Metropolitan University\n93                    mmu.ac.uk                 Manchester Metropolitan University\n94            moorfields.nhs.uk       Moorfields Eye Hospital NHS Foundation Trust\n95                     nasa.gov                                     Aero Institute\n96                    ncl.ac.uk                               Newcastle University\n97                    nii.ac.jp                  National Institute of Informatics\n98                      nioz.nl       Royal Netherlands Institute for Sea Research\n99            northumbria.ac.uk                             Northumbria University\n100                    ohsu.edu                 Oregon Health & Science University\n101                      ows.be                    Organic Waste Systems (Belgium)\n102                      pg.com                   Procter & Gamble (United States)\n103  research.fchampalimaud.org                            Champalimaud Foundation\n104                 rmit.edu.au                                    RMIT University\n105                 rutgers.edu                                 Rutgers University\n106                sapmed.ac.jp                Sapporo Medical University Hospital\n107                      scp.nl          Netherlands Institute for Social Research\n108                sete.cnrs.fr     French National Centre for Scientific Research\n109                     sggw.pl                 Warsaw University of Life Sciences\n110                    skku.edu                            Sungkyunkwan University\n111                 snnu.edu.cn                          Shaanxi Normal University\n112            st-andrews.ac.uk                           University of St Andrews\n113                  stjude.org              St. Jude Children's Research Hospital\n114                strath.ac.uk                          University of Strathclyde\n115                strath.ac.uk                          University of Strathclyde\n116            stu.kobe-u.ac.jp                                    Kobe University\n117     surg1.med.osaka-u.ac.jp                                   Osaka University\n118                tu-berlin.de                     Technical University of Berlin\n119                      tue.nl                 Eindhoven University of Technology\n120                     tuhh.de                   Hamburg University of Technology\n121                      ubc.ca  Centre for Health Evaluation and Outcome Sciences\n122                      ubc.ca  Centre for Health Evaluation and Outcome Sciences\n123                    ucar.edu    University Corporation for Atmospheric Research\n124                      ucc.ie                  Universal Sensors (United States)\n125                ucdenver.edu                   Colorado School of Public Health\n126                uclouvain.be                   Université Catholique de Louvain\n127                    udel.edu                             University of Delaware\n128                      uhn.ca                          University Health Network\n129                     uic.edu                  University of Illinois at Chicago\n130                     umcg.nl                University Medical Center Groningen\n131                     umd.edu                      Joint Space Science Institute\n132                     uml.edu                 University of Massachusetts Lowell\n133                      umu.se                                    Umeå University\n134                 uni-graz.at                                 University of Graz\n135              uni-hamburg.de                              University of Hamburg\n136                uni-koeln.de  Cologne Excellence Cluster on Cellular Stress ...\n137                    unich.it                       University of Chieti-Pescara\n138                    unige.ch                               University of Geneva\n139              unimelb.edu.au                            University of Melbourne\n140                univie.ac.at                               University of Vienna\n141                     usal.es                            University of Salamanca\n142                 utoronto.ca                              University of Toronto\n143                      utu.fi                                University of Turku\n144                      uzh.ch                               University of Zurich\n145                 vgregion.se                             Kärnsjukhuset i Skövde\n146                 vgregion.se                                 Skaraborg Hospital\n147                     vumc.nl                       VU University Medical Center\n148                 who-umc.org                          Uppsala Monitoring Centre\n149                  wip.pcz.pl               Częstochowa University of Technology\n150                  wip.pcz.pl               Częstochowa University of Technology\n151                  xmu.edu.cn                                  Xiamen University\n152                   yahoo.com                                      Yahoo (Spain)\n153                   yahoo.com                                      Yahoo (Spain)\n154                    yale.edu                                    Yale University\n155           yokohama-cu.ac.jp                           Yokohama City University\n",
          "name": "stdout"
        }
      ]
    },
    {
      "metadata": {
        "trusted": true
      },
      "cell_type": "code",
      "source": "solution = solution[['email', 'tdm_url', 'time_stamp', 'mine_method', 'doi', 'recall', 'precision', 'comment', 'mail_host', 'grid_id', 'name', 'link', 'subdomain', 'domain', 'suffix', 'host']]",
      "execution_count": 22,
      "outputs": []
    },
    {
      "metadata": {
        "trusted": true
      },
      "cell_type": "code",
      "source": "solution.to_csv('solution.csv')",
      "execution_count": 23,
      "outputs": []
    },
    {
      "metadata": {},
      "cell_type": "markdown",
      "source": "### 3 Ergebnisse\nViele E-Mailadressen konnten korrekt zugeordnet werden.\n\nProblematisch für das Vorgehen sind logischerweise vor allem die Fälle, in denen die Forscher keine Emailadressen ihrer Institution angegeben haben, sondern Gmail, Yahoo oder ähnliches."
    },
    {
      "metadata": {
        "trusted": true
      },
      "cell_type": "code",
      "source": "# Anzahl der gematchen emails\nprint(len(solution['doi'].unique()))",
      "execution_count": 24,
      "outputs": [
        {
          "output_type": "stream",
          "text": "155\n",
          "name": "stdout"
        }
      ]
    },
    {
      "metadata": {
        "trusted": true
      },
      "cell_type": "code",
      "source": "# Überprüfung ob nan elemente in solution stecken\nsolution['grid_id'].isnull().sum()",
      "execution_count": 25,
      "outputs": [
        {
          "output_type": "execute_result",
          "execution_count": 25,
          "data": {
            "text/plain": "0"
          },
          "metadata": {}
        }
      ]
    },
    {
      "metadata": {
        "trusted": true
      },
      "cell_type": "code",
      "source": "# Anzahl der nicht gematchen emails\nmatches_all['grid_id'].isnull().sum()",
      "execution_count": 26,
      "outputs": [
        {
          "output_type": "execute_result",
          "execution_count": 26,
          "data": {
            "text/plain": "45"
          },
          "metadata": {}
        }
      ]
    },
    {
      "metadata": {
        "trusted": true
      },
      "cell_type": "code",
      "source": "# Anzahl nicht angegebener emails\n(matches_all['email'] == ' ').sum()",
      "execution_count": 27,
      "outputs": [
        {
          "output_type": "execute_result",
          "execution_count": 27,
          "data": {
            "text/plain": "5"
          },
          "metadata": {}
        }
      ]
    },
    {
      "metadata": {
        "trusted": true
      },
      "cell_type": "code",
      "source": "# Gesamtmenge(doppelte Emails included, nan Elemente enthalten)\nprint(len(matches_all))",
      "execution_count": 28,
      "outputs": [
        {
          "output_type": "stream",
          "text": "504\n",
          "name": "stdout"
        }
      ]
    },
    {
      "metadata": {
        "trusted": true
      },
      "cell_type": "code",
      "source": "# Gesamtmenge(alle \"echte\" Matches)\nprint(len(solution))",
      "execution_count": 29,
      "outputs": [
        {
          "output_type": "stream",
          "text": "156\n",
          "name": "stdout"
        }
      ]
    },
    {
      "metadata": {
        "trusted": true
      },
      "cell_type": "code",
      "source": "print((matches_all['grid_id'].isnull().sum()/len(matches_all['doi']))*100)",
      "execution_count": 30,
      "outputs": [
        {
          "output_type": "stream",
          "text": "8.928571428571429\n",
          "name": "stdout"
        }
      ]
    },
    {
      "metadata": {
        "trusted": true
      },
      "cell_type": "code",
      "source": "print(len(matches_all['name'].unique()))",
      "execution_count": 31,
      "outputs": [
        {
          "output_type": "stream",
          "text": "400\n",
          "name": "stdout"
        }
      ]
    },
    {
      "metadata": {
        "trusted": true
      },
      "cell_type": "code",
      "source": "print(len(matches_all['email'].unique()))",
      "execution_count": 32,
      "outputs": [
        {
          "output_type": "stream",
          "text": "173\n",
          "name": "stdout"
        }
      ]
    },
    {
      "metadata": {
        "trusted": true
      },
      "cell_type": "code",
      "source": "# Länge des ursprünglichen Datensatzes\nprint(len(matches_all['doi'].unique()))",
      "execution_count": 33,
      "outputs": [
        {
          "output_type": "stream",
          "text": "200\n",
          "name": "stdout"
        }
      ]
    },
    {
      "metadata": {
        "trusted": true
      },
      "cell_type": "code",
      "source": "# Ergebnis für Matching\ny_pos = ['Gesamt', 'Email \\n mit Institution gematcht', 'Email \\n nicht mit \\n Institution gematcht']\nx_pos = [len(matches_all['doi'].unique()),len(solution['doi'].unique()), matches_all['grid_id'].isnull().sum()]\nbarlist = plt.bar(y_pos, x_pos)\nbarlist[0].set_color('b')\nbarlist[1].set_color('g')\nbarlist[2].set_color('r')\nplt.ylabel('absolute matches')\nplt.title('Ergebnis für Matching')\nplt.show()",
      "execution_count": 34,
      "outputs": [
        {
          "output_type": "display_data",
          "data": {
            "image/png": "[encoded data removed]",
            "text/plain": "<Figure size 432x288 with 1 Axes>"
          },
          "metadata": {
            "needs_background": "light"
          }
        }
      ]
    },
    {
      "metadata": {
        "trusted": true
      },
      "cell_type": "code",
      "source": "# Ergebnis für mehrfache Matches\ny_pos = ['Email konnte Institution \\n zugeordnet werden', 'tatsächlich gematchte \\n Institutionen']\nx_pos = [len(solution['doi'].unique()),len(solution)]\nbarlist = plt.bar(y_pos, x_pos)\nbarlist[0].set_color('b')\nbarlist[1].set_color('r')\nplt.ylabel('absolut')\nplt.title('Ergebnis für mehrfache Matches')\nplt.show()\n# keine merhfachen matches vorhanden",
      "execution_count": 35,
      "outputs": [
        {
          "output_type": "display_data",
          "data": {
            "image/png": "[encoded data removed]",
            "text/plain": "<Figure size 432x288 with 1 Axes>"
          },
          "metadata": {
            "needs_background": "light"
          }
        }
      ]
    },
    {
      "metadata": {
        "trusted": true
      },
      "cell_type": "code",
      "source": "# Ergebnis für nicht vorhandene Emails\ny_pos = ['Gesamt', 'Email vorhanden, \\n aber Institution nicht gefunden', 'Email nicht vorhanden']\nx_pos = [len(matches_all['doi'].unique()), matches_all['grid_id'].isnull().sum() - (matches_all['email'] == ' ').sum(),(matches_all['email'] == ' ').sum()]\nbarlist = plt.bar(y_pos, x_pos)\nbarlist[0].set_color('b')\nbarlist[1].set_color('r')\nplt.ylabel('absolut')\nplt.title('Ergebnis für nicht vorhandene Emails')\nplt.show()",
      "execution_count": 36,
      "outputs": [
        {
          "output_type": "display_data",
          "data": {
            "image/png": "[encoded data removed]",
            "text/plain": "<Figure size 432x288 with 1 Axes>"
          },
          "metadata": {
            "needs_background": "light"
          }
        }
      ]
    },
    {
      "metadata": {},
      "cell_type": "markdown",
      "source": "### 4 Diskussion\n\nDie Annahmen, dass eine kürzere Subdomain und die Analyse eines kürzeren Hierarchiepfades einer Url tatsächlich auf die Hauptakteure einer Institution hinweisen, müssten stichprobenartig untersucht werden. "
    },
    {
      "metadata": {},
      "cell_type": "markdown",
      "source": "### 5 Fazit\nInsgesamt funktioniert das Vorgehen ganz gut, sodass relativ viele Emailadressen korrekt zugeordnet werden können."
    }
  ],
  "metadata": {
    "kernelspec": {
      "name": "python36",
      "display_name": "Python 3.6",
      "language": "python"
    },
    "language_info": {
      "mimetype": "text/x-python",
      "nbconvert_exporter": "python",
      "name": "python",
      "pygments_lexer": "ipython3",
      "version": "3.6.6",
      "file_extension": ".py",
      "codemirror_mode": {
        "version": 3,
        "name": "ipython"
      }
    }
  },
  "nbformat": 4,
  "nbformat_minor": 2
}
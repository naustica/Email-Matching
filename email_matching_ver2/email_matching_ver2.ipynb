{
  "cells": [
    {
      "metadata": {
        "trusted": true
      },
      "cell_type": "code",
      "source": "#!pip install tldextract\nimport tldextract as tld\nimport pandas as pd\nimport matplotlib.pyplot as plt\nimport numpy as np",
      "execution_count": 33,
      "outputs": []
    },
    {
      "metadata": {
        "trusted": true
      },
      "cell_type": "code",
      "source": "# Funktionen zum parsen der Url \ndef extract_domain(link):\n    link = tld.extract(link)\n    return link.domain\n\ndef extract_suffix(link):\n    link = tld.extract(link)\n    return link.suffix\n\ndef extract_subdomain(link):\n    link = tld.extract(link)\n    return link.subdomain\n\ndef get_host(link):\n    domain = extract_domain(link)\n    suffix = extract_suffix(link)\n    host = str(domain) + '.' + str(suffix)\n    return host",
      "execution_count": 2,
      "outputs": []
    },
    {
      "metadata": {
        "trusted": true
      },
      "cell_type": "code",
      "source": "# Einlesen der CSV-Dateien\nbearbeitet = pd.read_csv('guete_bearbeitet.csv', index_col = 0)\ninstitutes = pd.read_csv('institutes.csv', usecols=['grid_id','name'])\nlinks = pd.read_csv('links.csv')\nrelationships = pd.read_csv('relationships.csv', usecols=['relationship_type', 'related_grid_id'])",
      "execution_count": 3,
      "outputs": []
    },
    {
      "metadata": {
        "trusted": true
      },
      "cell_type": "code",
      "source": "# merge institutes.csv mit links.csv\nname_and_link = institutes.merge(links, on='grid_id')",
      "execution_count": 4,
      "outputs": []
    },
    {
      "metadata": {
        "trusted": true
      },
      "cell_type": "code",
      "source": "# generieren der subdomain, domain, suffix und host\nname_and_link['subdomain'] = name_and_link['link'].apply(extract_subdomain)\nname_and_link['domain'] = name_and_link['link'].apply(extract_domain)\nname_and_link['suffix'] = name_and_link['link'].apply(extract_suffix)\nname_and_link['host'] = name_and_link['link'].apply(get_host)\n\n# generieren des hosts für email\nbearbeitet['mail_host'] = bearbeitet['email'].apply(get_host)",
      "execution_count": 5,
      "outputs": []
    },
    {
      "metadata": {
        "trusted": true
      },
      "cell_type": "code",
      "source": "# exkludieren der child-Institute\nchild = relationships[relationships['relationship_type'] == 'Child']\nchild = name_and_link.merge(child, how='left', left_on='grid_id', right_on='related_grid_id')\n#print(child.head(200))\nparent = child[child.relationship_type != 'Child']\n#print(parent.head(200))",
      "execution_count": 6,
      "outputs": []
    },
    {
      "metadata": {
        "trusted": true
      },
      "cell_type": "code",
      "source": "print(parent.head())",
      "execution_count": 7,
      "outputs": [
        {
          "output_type": "stream",
          "text": "       grid_id                            name                      link  \\\n0  grid.1001.0  Australian National University    http://www.anu.edu.au/   \n1  grid.1002.3               Monash University    http://www.monash.edu/   \n2  grid.1003.2        University of Queensland     http://www.uq.edu.au/   \n3  grid.1004.5            Macquarie University         http://mq.edu.au/   \n4  grid.1005.4                  UNSW Australia  https://www.unsw.edu.au/   \n\n  subdomain  domain  suffix         host relationship_type related_grid_id  \n0       www     anu  edu.au   anu.edu.au               NaN             NaN  \n1       www  monash     edu   monash.edu               NaN             NaN  \n2       www      uq  edu.au    uq.edu.au               NaN             NaN  \n3                mq  edu.au    mq.edu.au               NaN             NaN  \n4       www    unsw  edu.au  unsw.edu.au               NaN             NaN  \n",
          "name": "stdout"
        }
      ]
    },
    {
      "metadata": {
        "trusted": true
      },
      "cell_type": "code",
      "source": "parent.to_csv('parent.csv')",
      "execution_count": 8,
      "outputs": []
    },
    {
      "metadata": {
        "trusted": true
      },
      "cell_type": "code",
      "source": "matches_parent = pd.merge(bearbeitet, parent, how='left', left_on='mail_host', right_on='host')",
      "execution_count": 9,
      "outputs": []
    },
    {
      "metadata": {
        "trusted": true
      },
      "cell_type": "code",
      "source": "print(matches_parent.head())",
      "execution_count": 10,
      "outputs": [
        {
          "output_type": "stream",
          "text": "              email                                            tdm_url  \\\n0  meduniwien.ac.at  https://api.elsevier.com/content/article/PII:S...   \n1  meduniwien.ac.at  https://api.elsevier.com/content/article/PII:S...   \n2  meduniwien.ac.at  https://api.elsevier.com/content/article/PII:S...   \n3  meduniwien.ac.at  https://api.elsevier.com/content/article/PII:S...   \n4        bruker.com  http://link.springer.com/article/10.1007/s1183...   \n\n                time_stamp    mine_method                          doi  \\\n0  2018-12-17 16:06:12 UTC   Elsevier XML  10.1016/j.ddtec.2014.03.009   \n1  2018-12-17 16:06:12 UTC   Elsevier XML  10.1016/j.ddtec.2014.03.009   \n2  2018-12-17 16:06:12 UTC   Elsevier XML  10.1016/j.ddtec.2014.03.009   \n3  2018-12-17 16:06:12 UTC   Elsevier XML  10.1016/j.ddtec.2014.03.009   \n4  2018-12-18 08:00:29 UTC  Springer HTML    10.1007/s11837-018-2752-0   \n\n   recall  precision comment         mail_host        grid_id  \\\n0    True       True     NaN  meduniwien.ac.at  grid.22937.3d   \n1    True       True     NaN  meduniwien.ac.at  grid.461839.1   \n2    True       True     NaN  meduniwien.ac.at  grid.488544.1   \n3    True       True     NaN  meduniwien.ac.at  grid.492160.8   \n4    True       True     NaN        bruker.com  grid.423270.0   \n\n                                                name  \\\n0                       Medical University of Vienna   \n1                                  Lehrkrankenhäuser   \n2                  Universitätsklinik für Neurologie   \n3  Universitätsklinik für Kinder und Jugendpsychi...   \n4                             Bruker (United States)   \n\n                                               link   subdomain      domain  \\\n0  http://www.meduniwien.ac.at/homepage/1/homepage/         www  meduniwien   \n1   http://kpj.meduniwien.ac.at/lehrkrankenhaeuser/         kpj  meduniwien   \n2              https://neurologie.meduniwien.ac.at/  neurologie  meduniwien   \n3                      http://kjp.meduniwien.ac.at/         kjp  meduniwien   \n4                           https://www.bruker.com/         www      bruker   \n\n  suffix              host relationship_type related_grid_id  \n0  ac.at  meduniwien.ac.at               NaN             NaN  \n1  ac.at  meduniwien.ac.at               NaN             NaN  \n2  ac.at  meduniwien.ac.at               NaN             NaN  \n3  ac.at  meduniwien.ac.at               NaN             NaN  \n4    com        bruker.com               NaN             NaN  \n",
          "name": "stdout"
        }
      ]
    },
    {
      "metadata": {
        "trusted": true
      },
      "cell_type": "code",
      "source": "matches_parent = matches_parent.sort_values(by=['email']).reset_index(drop=True)",
      "execution_count": 11,
      "outputs": []
    },
    {
      "metadata": {
        "trusted": true
      },
      "cell_type": "code",
      "source": "# durch die wegnahme der child_elemente konnten einige emails nicht gematcht werden. Dies wird im folgen Schritt behoben.\nadd_missings = matches_parent[matches_parent['grid_id'].isnull()]",
      "execution_count": 12,
      "outputs": []
    },
    {
      "metadata": {
        "trusted": true
      },
      "cell_type": "code",
      "source": "add_missings = add_missings.drop(['subdomain', 'domain', 'suffix', 'host', 'grid_id', 'related_grid_id', 'name', 'link', 'relationship_type'], axis=1)\nadd_missings = add_missings.merge(name_and_link, how='left', left_on='mail_host', right_on='host')",
      "execution_count": 13,
      "outputs": []
    },
    {
      "metadata": {
        "trusted": true
      },
      "cell_type": "code",
      "source": "add_missings = add_missings.drop_duplicates().reset_index(drop=True)",
      "execution_count": 14,
      "outputs": []
    },
    {
      "metadata": {
        "trusted": true
      },
      "cell_type": "code",
      "source": "matches_parent = matches_parent[pd.notnull(matches_parent['grid_id'])]",
      "execution_count": 15,
      "outputs": []
    },
    {
      "metadata": {
        "trusted": true
      },
      "cell_type": "code",
      "source": "matches_all = pd.concat([matches_parent, add_missings])\nmatches_all = matches_all.sort_values(by=['email']).reset_index(drop=True)",
      "execution_count": 16,
      "outputs": []
    },
    {
      "metadata": {
        "trusted": true
      },
      "cell_type": "code",
      "source": "print(matches_all[['email', 'name']].head(10))",
      "execution_count": 17,
      "outputs": [
        {
          "output_type": "stream",
          "text": "             email                                  name\n0                                                    NaN\n1                                                    NaN\n2                                                    NaN\n3                                                    NaN\n4                                                    NaN\n5          126.com                                   NaN\n6      Outlook.com                                   NaN\n7           aau.in         Anand Agricultural University\n8  adm.cgmh.org.tw   Linkou Chang Gung Memorial Hospital\n9  adm.cgmh.org.tw  Keelung Chang Gung Memorial Hospital\n",
          "name": "stdout"
        }
      ]
    },
    {
      "metadata": {
        "trusted": true
      },
      "cell_type": "code",
      "source": "matches_all.to_csv('matches_all.csv')",
      "execution_count": 18,
      "outputs": []
    },
    {
      "metadata": {
        "trusted": true
      },
      "cell_type": "code",
      "source": "dataframes = []\nfor host in matches_all.host:\n    filter_host = matches_all[matches_all.host == host]\n    filter_subdomain = filter_host['subdomain'].values\n    min_length_subdomain = 100\n    min_subdomain = ''\n    for element in filter_subdomain:\n        if len(element) < min_length_subdomain:\n            min_length_subdomain = len(element)\n            min_subdomain = element\n        else:\n            continue\n    save_dataframe = filter_host[filter_host.subdomain == min_subdomain]\n    dataframes.append(save_dataframe)\n    \n\nsolution = pd.concat(dataframes)\nsolution = solution.drop_duplicates().reset_index(drop=True)\nprint(solution[['email', 'name']])",
      "execution_count": 20,
      "outputs": [
        {
          "output_type": "stream",
          "text": "                   email                                               name\n0                 aau.in                      Anand Agricultural University\n1        adm.cgmh.org.tw               Keelung Chang Gung Memorial Hospital\n2        adm.cgmh.org.tw               Taoyuan Chang Gung Memorial Hospital\n3        adm.cgmh.org.tw             Kaohsiung Chang Gung Memorial Hospital\n4        adm.cgmh.org.tw                Chiayi Chang Gung Memorial Hospital\n5        adm.cgmh.org.tw                       Chang Gung Memorial Hospital\n6        adm.cgmh.org.tw                     Chang Gung Children's Hospital\n7             agh.edu.pl           AGH University of Science and Technology\n8                 amc.nl                            Academic Medical Center\n9             amc.uva.nl                            University of Amsterdam\n10            amc.uva.nl                            University of Amsterdam\n11            amc.uva.nl                            University of Amsterdam\n12                uva.nl                            University of Amsterdam\n13                uva.nl                            University of Amsterdam\n14            amu.edu.pl               Adam Mickiewicz University in Poznań\n15         wa.amu.edu.pl               Adam Mickiewicz University in Poznań\n16            aok.pte.hu                                 University of Pecs\n17       astrazeneca.com                            AstraZeneca (Singapore)\n18       astrazeneca.com                          AstraZeneca (Switzerland)\n19       astrazeneca.com                                AstraZeneca (India)\n20       astrazeneca.com                               AstraZeneca (Sweden)\n21       astrazeneca.com                          AstraZeneca (South Korea)\n22    bartshealth.nhs.uk                             Barts Health NHS Trust\n23            bath.ac.uk                                 University of Bath\n24       bc3research.org                   Basque Centre for Climate Change\n25   biofilm.montana.edu                    Montana State University System\n26             brown.edu                          John Carter Brown Library\n27             brown.edu                                   Brown University\n28            bruker.com                             Bruker (United States)\n29          brunel.ac.uk                           Brunel University London\n..                   ...                                                ...\n198               umu.se                                    Umeå University\n199          uni-graz.at                                 University of Graz\n200       uni-hamburg.de                              University of Hamburg\n201         uni-koeln.de  Cologne Excellence Cluster on Cellular Stress ...\n202             unich.it                       University of Chieti-Pescara\n203             unige.ch                               University of Geneva\n204       unimelb.edu.au                            University of Melbourne\n205         univie.ac.at                               University of Vienna\n206              usal.es                            University of Salamanca\n207          utoronto.ca                              University of Toronto\n208               utu.fi                                University of Turku\n209               uzh.ch                               University of Zurich\n210          vgregion.se                             Kärnsjukhuset i Skövde\n211          vgregion.se                                 Skaraborg Hospital\n212          vgregion.se                                   Kungälvs sjukhus\n213          vgregion.se                             Folktandvården Kyrkbyn\n214          vgregion.se                            Södra Älvsborg Hospital\n215          vgregion.se                   Västra Götaland Regional Council\n216              vumc.nl                       VU University Medical Center\n217          who-umc.org                          Uppsala Monitoring Centre\n218           wip.pcz.pl               Częstochowa University of Technology\n219           wip.pcz.pl               Częstochowa University of Technology\n220           xmu.edu.cn                                  Xiamen University\n221            yahoo.com                                      Yahoo (Spain)\n222            yahoo.com                                      Yahoo (Spain)\n223             yale.edu                                    Yale University\n224    yokohama-cu.ac.jp            Yokohama City University Medical Center\n225    yokohama-cu.ac.jp                           Yokohama City University\n226    yokohama-cu.ac.jp                  Yokohama City University Hospital\n227    yokohama-cu.ac.jp           Kihara Institute for Biological Research\n\n[228 rows x 2 columns]\n",
          "name": "stdout"
        }
      ]
    },
    {
      "metadata": {
        "trusted": true
      },
      "cell_type": "code",
      "source": "solution.to_csv('solution.csv')",
      "execution_count": 21,
      "outputs": []
    },
    {
      "metadata": {
        "trusted": true
      },
      "cell_type": "code",
      "source": "# Anzahl der gematchen emails\nprint(len(solution['doi'].unique()))",
      "execution_count": 22,
      "outputs": [
        {
          "output_type": "stream",
          "text": "155\n",
          "name": "stdout"
        }
      ]
    },
    {
      "metadata": {
        "trusted": true
      },
      "cell_type": "code",
      "source": "# Überprüfung ob nan elemente in solution stecken\nsolution['grid_id'].isnull().sum()",
      "execution_count": 23,
      "outputs": [
        {
          "output_type": "execute_result",
          "execution_count": 23,
          "data": {
            "text/plain": "0"
          },
          "metadata": {}
        }
      ]
    },
    {
      "metadata": {
        "trusted": true
      },
      "cell_type": "code",
      "source": "# Anzahl der nicht gematchen emails\nmatches_all['grid_id'].isnull().sum()",
      "execution_count": 24,
      "outputs": [
        {
          "output_type": "execute_result",
          "execution_count": 24,
          "data": {
            "text/plain": "45"
          },
          "metadata": {}
        }
      ]
    },
    {
      "metadata": {
        "trusted": true
      },
      "cell_type": "code",
      "source": "# Anzahl nicht angegebener emails\n(matches_all['email'] == ' ').sum()",
      "execution_count": 25,
      "outputs": [
        {
          "output_type": "execute_result",
          "execution_count": 25,
          "data": {
            "text/plain": "5"
          },
          "metadata": {}
        }
      ]
    },
    {
      "metadata": {
        "trusted": true
      },
      "cell_type": "code",
      "source": "# Gesamtmenge(doppelte Emails included, nan Elemente enthalten)\nprint(len(matches_all))",
      "execution_count": 26,
      "outputs": [
        {
          "output_type": "stream",
          "text": "504\n",
          "name": "stdout"
        }
      ]
    },
    {
      "metadata": {
        "trusted": true
      },
      "cell_type": "code",
      "source": "# Gesamtmenge(alle \"echte\" Matches)\nprint(len(solution))",
      "execution_count": 27,
      "outputs": [
        {
          "output_type": "stream",
          "text": "228\n",
          "name": "stdout"
        }
      ]
    },
    {
      "metadata": {
        "trusted": true
      },
      "cell_type": "code",
      "source": "print((matches_all['grid_id'].isnull().sum()/len(matches_all['doi']))*100)",
      "execution_count": 28,
      "outputs": [
        {
          "output_type": "stream",
          "text": "8.928571428571429\n",
          "name": "stdout"
        }
      ]
    },
    {
      "metadata": {
        "trusted": true
      },
      "cell_type": "code",
      "source": "print(len(matches_all['name'].unique()))",
      "execution_count": 29,
      "outputs": [
        {
          "output_type": "stream",
          "text": "400\n",
          "name": "stdout"
        }
      ]
    },
    {
      "metadata": {
        "trusted": true
      },
      "cell_type": "code",
      "source": "print(len(matches_all['email'].unique()))",
      "execution_count": 30,
      "outputs": [
        {
          "output_type": "stream",
          "text": "173\n",
          "name": "stdout"
        }
      ]
    },
    {
      "metadata": {
        "trusted": true
      },
      "cell_type": "code",
      "source": "# Länge des ursprünglichen Datensatzes\nprint(len(matches_all['doi'].unique()))",
      "execution_count": 31,
      "outputs": [
        {
          "output_type": "stream",
          "text": "200\n",
          "name": "stdout"
        }
      ]
    },
    {
      "metadata": {
        "trusted": true
      },
      "cell_type": "code",
      "source": "# Ergebnis für Matching\ny_pos = ['Gesamt', 'Email \\n mit Institution gematcht', 'Email \\n nicht mit \\n Institution gematcht']\nx_pos = [len(matches_all['doi'].unique()),len(solution['doi'].unique()), matches_all['grid_id'].isnull().sum()]\nbarlist = plt.bar(y_pos, x_pos)\nbarlist[0].set_color('b')\nbarlist[1].set_color('g')\nbarlist[2].set_color('r')\nplt.ylabel('absolute matches')\nplt.title('Ergebnis für Matching')\nplt.show()",
      "execution_count": 53,
      "outputs": [
        {
          "output_type": "display_data",
          "data": {
            "image/png": "[encoded data removed]",
            "text/plain": "<Figure size 432x288 with 1 Axes>"
          },
          "metadata": {
            "needs_background": "light"
          }
        }
      ]
    },
    {
      "metadata": {
        "trusted": true
      },
      "cell_type": "code",
      "source": "# Ergebnis für mehrfache Matches\ny_pos = ['Email konnte Institution \\n zugeordnet werden', 'tatsächlich gematchte \\n Institutionen']\nx_pos = [len(solution['doi'].unique()),len(solution)]\nbarlist = plt.bar(y_pos, x_pos)\nbarlist[0].set_color('b')\nbarlist[1].set_color('r')\nplt.ylabel('absolut')\nplt.title('Ergebnis für mehrfache Matches')\nplt.show()",
      "execution_count": 54,
      "outputs": [
        {
          "output_type": "display_data",
          "data": {
            "image/png": "[encoded data removed]",
            "text/plain": "<Figure size 432x288 with 1 Axes>"
          },
          "metadata": {
            "needs_background": "light"
          }
        }
      ]
    },
    {
      "metadata": {
        "trusted": true
      },
      "cell_type": "code",
      "source": "# Ergebnis für nicht vorhandene Emails\ny_pos = ['Gesamt', 'Email vorhanden, \\n aber Institution nicht gefunden', 'Email nicht vorhanden']\nx_pos = [len(matches_all['doi'].unique()), matches_all['grid_id'].isnull().sum() - (matches_all['email'] == ' ').sum(),(matches_all['email'] == ' ').sum()]\nbarlist = plt.bar(y_pos, x_pos)\nbarlist[0].set_color('b')\nbarlist[1].set_color('r')\nplt.ylabel('absolut')\nplt.title('Ergebnis für nicht vorhandene Emails')\nplt.show()",
      "execution_count": 55,
      "outputs": [
        {
          "output_type": "display_data",
          "data": {
            "image/png": "[encoded data removed]",
            "text/plain": "<Figure size 432x288 with 1 Axes>"
          },
          "metadata": {
            "needs_background": "light"
          }
        }
      ]
    },
    {
      "metadata": {
        "trusted": true
      },
      "cell_type": "code",
      "source": "",
      "execution_count": null,
      "outputs": []
    }
  ],
  "metadata": {
    "kernelspec": {
      "name": "python36",
      "display_name": "Python 3.6",
      "language": "python"
    },
    "language_info": {
      "mimetype": "text/x-python",
      "nbconvert_exporter": "python",
      "name": "python",
      "pygments_lexer": "ipython3",
      "version": "3.6.6",
      "file_extension": ".py",
      "codemirror_mode": {
        "version": 3,
        "name": "ipython"
      }
    }
  },
  "nbformat": 4,
  "nbformat_minor": 2
}
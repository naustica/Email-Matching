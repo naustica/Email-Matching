{
  "cells": [
    {
      "metadata": {},
      "cell_type": "markdown",
      "source": "# Thema: Organisations-IDs für wissenschaftliche Einrichtungen anhand von Emailadressen gewinnen"
    },
    {
      "metadata": {},
      "cell_type": "markdown",
      "source": "### 1 Fragestellung\n\nDie Aufgabe bestand darin, die Emailadressen den entsprechenden Institutionen zuzuordnen.\n\nDie Datenquellen dafür waren:\n\n- hybrid_publications.csv https://github.com/subugoe/hybrid_oa_dashboard/blob/master/data/hybrid_publications.csv?raw=true\n\n    (Tabelle zu hybriden OA-Artikeln mit Angaben zu Lizenz, Verlag, DOI des OA-Artikels, Erscheinungsjahr, jährl. Umfang der Zeitschrift uvm wie Host, Subdomain, Domain und Suffix, erstellt mit dem Analysewerkzeug Hybrid OA Dashboard)\n    \n\n- GRID Open Data Dump https://figshare.com/articles/GRID_release_2018-11-14/7346852\n\n (Darin sind Tabellen mit Informationen zu Institutionen, die jew. durch ihre Grid-Id identifiziert werden, sowie Akronyme, Adressen, andere Bezeichnungen für die Institutionen, weitere Ids, uvm. wie z.B. eine Datei, in der das Verhältnis der verschiedenen Institutionen zueinander verzeichnet ist, z.B. Institute, die ihrer Universität untergeordnet sind.)\n\nAußerdem wurde die Datei guete_bearbeitet.csv verwendet, die im Rahmen unserer ersten Aufgabe zur Güte von Recall und Precision erstellt wurde."
    },
    {
      "metadata": {},
      "cell_type": "markdown",
      "source": "### 2 Vorgehen\n\nAufgabe: Matching domains mit GRID Webseiten-URLs\n\nTipp: https://pandas.pydata.org/pandas-docs/stable/reference/api/pandas.DataFrlame.join.html\n\nDie Grundidee ist, mithilfe der Programmierbibliothek Pandas von Python passende Spalten aus den vielen verschiedenen Datenquellen per „Join“ zusammenzustellen. So soll man am Ende die Emailadressen den Institutionen zuordnen können."
    },
    {
      "metadata": {
        "trusted": true
      },
      "cell_type": "code",
      "source": "#!pip install pandas\nimport pandas as pd",
      "execution_count": 1,
      "outputs": []
    },
    {
      "metadata": {
        "trusted": true
      },
      "cell_type": "code",
      "source": "hybrid_publications = pd.read_csv('hybrid_publications.csv', usecols=['host', 'domain', 'suffix'])\nbearbeitet = pd.read_csv('guete_bearbeitet.csv', index_col = 0)\ninstitutes = pd.read_csv('institutes.csv', usecols=['grid_id','name'])\nlinks = pd.read_csv('links.csv')\nrelationships = pd.read_csv('relationships.csv')",
      "execution_count": 2,
      "outputs": []
    },
    {
      "metadata": {
        "trusted": true
      },
      "cell_type": "code",
      "source": "print(hybrid_publications.head())",
      "execution_count": 3,
      "outputs": [
        {
          "output_type": "stream",
          "text": "             host    domain  suffix\n0  bradford.ac.uk  bradford   ac.uk\n1         upol.cz      upol      cz\n2       uwe.ac.uk       uwe   ac.uk\n3        sina.com      sina     com\n4     dlmu.edu.cn      dlmu  edu.cn\n",
          "name": "stdout"
        }
      ]
    },
    {
      "metadata": {
        "trusted": true
      },
      "cell_type": "code",
      "source": "print(bearbeitet.head())",
      "execution_count": 4,
      "outputs": [
        {
          "output_type": "stream",
          "text": "              email                                            tdm_url  \\\n0  meduniwien.ac.at  https://api.elsevier.com/content/article/PII:S...   \n1        bruker.com  http://link.springer.com/article/10.1007/s1183...   \n2          ohsu.edu  https://api.elsevier.com/content/article/PII:S...   \n3           cox.net                                                      \n4        amc.uva.nl  http://link.springer.com/article/10.1007/s1176...   \n\n                time_stamp    mine_method                           doi  \\\n0  2018-12-17 16:06:12 UTC   Elsevier XML   10.1016/j.ddtec.2014.03.009   \n1  2018-12-18 08:00:29 UTC  Springer HTML     10.1007/s11837-018-2752-0   \n2  2018-12-17 16:06:12 UTC   Elsevier XML  10.1016/j.ocemod.2015.12.007   \n3  2018-12-16 12:29:19 UTC  PMC OAI (NIH)     10.1007/s13752-016-0244-4   \n4  2019-01-04 14:40:57 UTC  Springer HTML     10.1007/s11764-018-0690-z   \n\n   recall  precision comment  \n0    True       True     NaN  \n1    True       True     NaN  \n2    True       True     NaN  \n3    True       True     NaN  \n4    True       True     NaN  \n",
          "name": "stdout"
        }
      ]
    },
    {
      "metadata": {
        "trusted": true
      },
      "cell_type": "code",
      "source": "print(institutes.head())",
      "execution_count": 5,
      "outputs": [
        {
          "output_type": "stream",
          "text": "       grid_id                            name\n0  grid.1001.0  Australian National University\n1  grid.1002.3               Monash University\n2  grid.1003.2        University of Queensland\n3  grid.1004.5            Macquarie University\n4  grid.1005.4                  UNSW Australia\n",
          "name": "stdout"
        }
      ]
    },
    {
      "metadata": {
        "trusted": true
      },
      "cell_type": "code",
      "source": "print(links.head())",
      "execution_count": 6,
      "outputs": [
        {
          "output_type": "stream",
          "text": "       grid_id                      link\n0  grid.1001.0    http://www.anu.edu.au/\n1  grid.1002.3    http://www.monash.edu/\n2  grid.1003.2     http://www.uq.edu.au/\n3  grid.1004.5         http://mq.edu.au/\n4  grid.1005.4  https://www.unsw.edu.au/\n",
          "name": "stdout"
        }
      ]
    },
    {
      "metadata": {
        "trusted": true
      },
      "cell_type": "code",
      "source": "print(relationships.head())",
      "execution_count": 7,
      "outputs": [
        {
          "output_type": "stream",
          "text": "       grid_id relationship_type related_grid_id\n0  grid.1001.0           Related   grid.460694.9\n1  grid.1001.0           Related   grid.413314.0\n2  grid.1001.0           Related   grid.460721.6\n3  grid.1002.3           Related     grid.1623.6\n4  grid.1002.3           Related   grid.414580.c\n",
          "name": "stdout"
        }
      ]
    },
    {
      "metadata": {},
      "cell_type": "markdown",
      "source": "Zunächst wurden die Dateien links und institutes\" durch \"merge\" basierend auf der beiden gemeinsamen Spalte \"grid_id\" zusammengefügt in der neuen Datei name_and_link."
    },
    {
      "metadata": {
        "trusted": true
      },
      "cell_type": "code",
      "source": "name_and_link = institutes.merge(links, on='grid_id')",
      "execution_count": 8,
      "outputs": []
    },
    {
      "metadata": {
        "trusted": true
      },
      "cell_type": "code",
      "source": "name_and_link_and_relationships = name_and_link.merge(relationships, on='grid_id')",
      "execution_count": 9,
      "outputs": []
    },
    {
      "metadata": {
        "trusted": true
      },
      "cell_type": "code",
      "source": "print(name_and_link.head())",
      "execution_count": 10,
      "outputs": [
        {
          "output_type": "stream",
          "text": "       grid_id                            name                      link\n0  grid.1001.0  Australian National University    http://www.anu.edu.au/\n1  grid.1002.3               Monash University    http://www.monash.edu/\n2  grid.1003.2        University of Queensland     http://www.uq.edu.au/\n3  grid.1004.5            Macquarie University         http://mq.edu.au/\n4  grid.1005.4                  UNSW Australia  https://www.unsw.edu.au/\n",
          "name": "stdout"
        }
      ]
    },
    {
      "metadata": {
        "trusted": true
      },
      "cell_type": "code",
      "source": "print(name_and_link_and_relationships.head())",
      "execution_count": 11,
      "outputs": [
        {
          "output_type": "stream",
          "text": "       grid_id                            name                    link  \\\n0  grid.1001.0  Australian National University  http://www.anu.edu.au/   \n1  grid.1001.0  Australian National University  http://www.anu.edu.au/   \n2  grid.1001.0  Australian National University  http://www.anu.edu.au/   \n3  grid.1002.3               Monash University  http://www.monash.edu/   \n4  grid.1002.3               Monash University  http://www.monash.edu/   \n\n  relationship_type related_grid_id  \n0           Related   grid.460694.9  \n1           Related   grid.413314.0  \n2           Related   grid.460721.6  \n3           Related     grid.1623.6  \n4           Related   grid.414580.c  \n",
          "name": "stdout"
        }
      ]
    },
    {
      "metadata": {},
      "cell_type": "markdown",
      "source": "Mithilfe der Funktionen extract_domain und extract_suffix konnten Bestandteile wie \"http://\", \"www\" und \"/\"  aus der Datei herausgefiltert werden. "
    },
    {
      "metadata": {
        "trusted": true
      },
      "cell_type": "code",
      "source": "def extract_domain(link):\n    link = str(link)\n    link = link.replace('http://', '')\n    link = link.replace('https://', '')\n    first_position = link.find('www')\n    last_position = link.find('/')\n    link = link[first_position+4:last_position]\n    link = link.split('.')\n    domain = link[0]\n    return str(domain)\n\ndef extract_suffix(link):\n    link = str(link)\n    link = link.replace('http://', '')\n    link = link.replace('https://', '')\n    first_position = link.find('www')\n    if first_position == -1:\n        try:\n            first_position = link[0::]\n        except:\n            pass\n    else:\n        try:\n            first_position = link.find('www')\n        except:\n            pass\n    last_position = link.find('/')\n    if last_position == -1:\n        try:\n            link = link[first_position+4::]\n        except: \n            pass\n    else:\n        try:\n            link = link[first_position+4:last_position]\n        except:\n            pass\n    link = link.split('.')\n    suffix_list = []\n    for element in link:\n        suffix_list.append(element)\n    suffix_list = suffix_list[1::]\n    suffix = \"\"\n    for element in suffix_list:\n        suffix = suffix + \".\" + str(element)\n    return str(suffix[1::])",
      "execution_count": 12,
      "outputs": []
    },
    {
      "metadata": {
        "trusted": true
      },
      "cell_type": "code",
      "source": "print(extract_suffix('http://www.kek.ac.de/'))",
      "execution_count": 13,
      "outputs": [
        {
          "output_type": "stream",
          "text": "ac.de\n",
          "name": "stdout"
        }
      ]
    },
    {
      "metadata": {
        "trusted": true
      },
      "cell_type": "code",
      "source": "print(extract_suffix('www.amu.edu.pl/'))",
      "execution_count": 14,
      "outputs": [
        {
          "output_type": "stream",
          "text": "edu.pl\n",
          "name": "stdout"
        }
      ]
    },
    {
      "metadata": {
        "trusted": true
      },
      "cell_type": "code",
      "source": "kek = 'amu.edu.pl'\nprint(kek.find('www'))",
      "execution_count": 15,
      "outputs": [
        {
          "output_type": "stream",
          "text": "-1\n",
          "name": "stdout"
        }
      ]
    },
    {
      "metadata": {},
      "cell_type": "markdown",
      "source": "Dann wurden auch name_and_link mit hybrid_publications basierend auf den Spalten \"suffix\" zusammengefügt zur Datei merge_link_and_host. "
    },
    {
      "metadata": {
        "trusted": true
      },
      "cell_type": "code",
      "source": "name_and_link['domain'] = name_and_link['link'].apply(extract_domain)\nname_and_link['suffix'] = name_and_link['link'].apply(extract_suffix)",
      "execution_count": 16,
      "outputs": []
    },
    {
      "metadata": {
        "trusted": true
      },
      "cell_type": "code",
      "source": "merge_link_and_host = hybrid_publications.merge(name_and_link, on=['domain', 'suffix'])",
      "execution_count": 17,
      "outputs": []
    },
    {
      "metadata": {
        "trusted": true
      },
      "cell_type": "code",
      "source": "print(merge_link_and_host.head())",
      "execution_count": 18,
      "outputs": [
        {
          "output_type": "stream",
          "text": "             host    domain suffix      grid_id                    name  \\\n0  bradford.ac.uk  bradford  ac.uk  grid.6268.a  University of Bradford   \n1  bradford.ac.uk  bradford  ac.uk  grid.6268.a  University of Bradford   \n2  bradford.ac.uk  bradford  ac.uk  grid.6268.a  University of Bradford   \n3  bradford.ac.uk  bradford  ac.uk  grid.6268.a  University of Bradford   \n4  bradford.ac.uk  bradford  ac.uk  grid.6268.a  University of Bradford   \n\n                                  link  \n0  http://www.bradford.ac.uk/external/  \n1  http://www.bradford.ac.uk/external/  \n2  http://www.bradford.ac.uk/external/  \n3  http://www.bradford.ac.uk/external/  \n4  http://www.bradford.ac.uk/external/  \n",
          "name": "stdout"
        }
      ]
    },
    {
      "metadata": {},
      "cell_type": "markdown",
      "source": "Durch \"drop.duplicates\" wurden dann alle Doppelungen entfernt."
    },
    {
      "metadata": {
        "trusted": true
      },
      "cell_type": "code",
      "source": "merge_link_and_host = merge_link_and_host.drop_duplicates().reset_index(drop=True)",
      "execution_count": 19,
      "outputs": []
    },
    {
      "metadata": {
        "trusted": true
      },
      "cell_type": "code",
      "source": "print(merge_link_and_host.head())",
      "execution_count": 20,
      "outputs": [
        {
          "output_type": "stream",
          "text": "                     host    domain suffix        grid_id  \\\n0          bradford.ac.uk  bradford  ac.uk    grid.6268.a   \n1  student.bradford.ac.uk  bradford  ac.uk    grid.6268.a   \n2                 upol.cz      upol     cz  grid.10979.36   \n3           oushi.upol.cz      upol     cz  grid.10979.36   \n4          optics.upol.cz      upol     cz  grid.10979.36   \n\n                          name                                 link  \n0       University of Bradford  http://www.bradford.ac.uk/external/  \n1       University of Bradford  http://www.bradford.ac.uk/external/  \n2  Palacký University, Olomouc               http://www.upol.cz/en/  \n3  Palacký University, Olomouc               http://www.upol.cz/en/  \n4  Palacký University, Olomouc               http://www.upol.cz/en/  \n",
          "name": "stdout"
        }
      ]
    },
    {
      "metadata": {
        "trusted": true
      },
      "cell_type": "code",
      "source": "merge_link_and_host.to_csv('test.csv')",
      "execution_count": 21,
      "outputs": []
    },
    {
      "metadata": {},
      "cell_type": "markdown",
      "source": "Anschließend wurde merge_link_and_host mit bearbeitet (Ergebnis der ersten Aufgabe zu Güte von Recall und Precision) zur neuen Datei join_host_and_bearbeitet zusammengefügt."
    },
    {
      "metadata": {
        "trusted": true
      },
      "cell_type": "code",
      "source": "join_host_and_bearbeitet = pd.merge(bearbeitet, merge_link_and_host, how='left', left_on='email', right_on='host')",
      "execution_count": 22,
      "outputs": []
    },
    {
      "metadata": {
        "trusted": true
      },
      "cell_type": "code",
      "source": "print(join_host_and_bearbeitet.head())",
      "execution_count": 23,
      "outputs": [
        {
          "output_type": "stream",
          "text": "              email                                            tdm_url  \\\n0  meduniwien.ac.at  https://api.elsevier.com/content/article/PII:S...   \n1  meduniwien.ac.at  https://api.elsevier.com/content/article/PII:S...   \n2  meduniwien.ac.at  https://api.elsevier.com/content/article/PII:S...   \n3        bruker.com  http://link.springer.com/article/10.1007/s1183...   \n4        bruker.com  http://link.springer.com/article/10.1007/s1183...   \n\n                time_stamp    mine_method                          doi  \\\n0  2018-12-17 16:06:12 UTC   Elsevier XML  10.1016/j.ddtec.2014.03.009   \n1  2018-12-17 16:06:12 UTC   Elsevier XML  10.1016/j.ddtec.2014.03.009   \n2  2018-12-17 16:06:12 UTC   Elsevier XML  10.1016/j.ddtec.2014.03.009   \n3  2018-12-18 08:00:29 UTC  Springer HTML    10.1007/s11837-018-2752-0   \n4  2018-12-18 08:00:29 UTC  Springer HTML    10.1007/s11837-018-2752-0   \n\n   recall  precision comment              host      domain suffix  \\\n0    True       True     NaN  meduniwien.ac.at  meduniwien  ac.at   \n1    True       True     NaN  meduniwien.ac.at  meduniwien  ac.at   \n2    True       True     NaN  meduniwien.ac.at  meduniwien  ac.at   \n3    True       True     NaN        bruker.com      bruker    com   \n4    True       True     NaN        bruker.com      bruker    com   \n\n         grid_id                                               name  \\\n0  grid.22937.3d                       Medical University of Vienna   \n1  grid.454395.a  Ludwig Boltzmann Cluster for Cardiovascular Re...   \n2  grid.476556.3  Universitätsklinik für Hals-, Nasen- und Ohren...   \n3  grid.423218.e                                   Bruker (Germany)   \n4  grid.423270.0                             Bruker (United States)   \n\n                                                link  \n0   http://www.meduniwien.ac.at/homepage/1/homepage/  \n1  http://www.meduniwien.ac.at/cvd/StartseiteLBG.htm  \n2                  https://www.meduniwien.ac.at/hno/  \n3                            https://www.bruker.com/  \n4                            https://www.bruker.com/  \n",
          "name": "stdout"
        }
      ]
    },
    {
      "metadata": {},
      "cell_type": "markdown",
      "source": "Schließlich wurden die Werte in dieser Datei noch anhand der Emailadressen sortiert."
    },
    {
      "metadata": {
        "trusted": true
      },
      "cell_type": "code",
      "source": "join_host_and_bearbeitet = join_host_and_bearbeitet.sort_values(by=['email']).reset_index(drop=True)",
      "execution_count": 24,
      "outputs": []
    },
    {
      "metadata": {
        "trusted": true
      },
      "cell_type": "code",
      "source": "join_host_and_bearbeitet.to_csv('merge.csv')",
      "execution_count": 25,
      "outputs": []
    },
    {
      "metadata": {
        "trusted": true
      },
      "cell_type": "code",
      "source": "show_result = pd.read_csv('merge.csv', index_col = 0, usecols = ['email','name', 'grid_id'])",
      "execution_count": 26,
      "outputs": []
    },
    {
      "metadata": {},
      "cell_type": "markdown",
      "source": "### 3 Ergebnisse\n\nViele E-Mailadressen konnten korrekt zugeordnet werden.\n\nProblematisch für das Vorgehen sind logischerweise vor allem die Fälle, in denen die Forscher keine Emailadressen ihrer Institution angegeben haben, sondern Gmail, Yahoo oder ähnliches."
    },
    {
      "metadata": {
        "trusted": true,
        "scrolled": true
      },
      "cell_type": "code",
      "source": "print(show_result)",
      "execution_count": 27,
      "outputs": [
        {
          "output_type": "stream",
          "text": "                          grid_id                                      name\nemail                                                                      \n                              NaN                                       NaN\n                              NaN                                       NaN\n                              NaN                                       NaN\n                              NaN                                       NaN\n                              NaN                                       NaN\n126.com                       NaN                                       NaN\nOutlook.com                   NaN                                       NaN\naau.in              grid.411373.3             Anand Agricultural University\nadm.cgmh.org.tw     grid.413801.f              Chang Gung Memorial Hospital\nadm.cgmh.org.tw     grid.413804.a    Kaohsiung Chang Gung Memorial Hospital\nadm.cgmh.org.tw     grid.454209.e      Keelung Chang Gung Memorial Hospital\nadm.cgmh.org.tw     grid.454210.6      Taoyuan Chang Gung Memorial Hospital\nadm.cgmh.org.tw     grid.454212.4       Chiayi Chang Gung Memorial Hospital\nadm.cgmh.org.tw     grid.413798.0            Chang Gung Children's Hospital\nagh.edu.pl            grid.9922.0  AGH University of Science and Technology\namc.nl                grid.5650.6                   Academic Medical Center\namc.uva.nl            grid.7177.6                   University of Amsterdam\namc.uva.nl            grid.7177.6                   University of Amsterdam\namc.uva.nl            grid.7177.6                   University of Amsterdam\namu.edu.pl                    NaN                                       NaN\naok.pte.hu                    NaN                                       NaN\nastrazeneca.com     grid.467208.f                 AstraZeneca (South Korea)\nastrazeneca.com     grid.497506.9                   AstraZeneca (Singapore)\nastrazeneca.com     grid.487187.5                 AstraZeneca (Switzerland)\nastrazeneca.com     grid.459399.b                       AstraZeneca (India)\nastrazeneca.com     grid.418151.8                      AstraZeneca (Sweden)\nbartshealth.nhs.uk  grid.416041.6                     Royal London Hospital\nbartshealth.nhs.uk  grid.416036.6                     London Chest Hospital\nbartshealth.nhs.uk  grid.439227.9                         Mile End Hospital\nbartshealth.nhs.uk  grid.139534.9                    Barts Health NHS Trust\n...                           ...                                       ...\nunivie.ac.at        grid.10420.37                      University of Vienna\nusal.es             grid.11762.33                   University of Salamanca\nutoronto.ca         grid.17063.33                     University of Toronto\nutu.fi                grid.1374.1                       University of Turku\nuva.nl                grid.7177.6                   University of Amsterdam\nuva.nl                grid.7177.6                   University of Amsterdam\nuzh.ch                grid.7400.3                      University of Zurich\nvgregion.se         grid.466872.9                          Kungälvs sjukhus\nvgregion.se         grid.468026.e                   Södra Älvsborg Hospital\nvgregion.se         grid.413652.7                    Kärnsjukhuset i Skövde\nvgregion.se         grid.452005.6          Västra Götaland Regional Council\nvgregion.se         grid.415366.3                    Folktandvården Kyrkbyn\nvgregion.se         grid.416029.8                        Skaraborg Hospital\nvumc.nl             grid.16872.3a              VU University Medical Center\nwa.amu.edu.pl                 NaN                                       NaN\nwho-umc.org         grid.420224.2                 Uppsala Monitoring Centre\nwip.pcz.pl          grid.34197.38      Częstochowa University of Technology\nwip.pcz.pl          grid.34197.38      Częstochowa University of Technology\nwp.pl                         NaN                                       NaN\nwur.nl                        NaN                                       NaN\nxmu.edu.cn                    NaN                                       NaN\nyahoo.co.jp                   NaN                                       NaN\nyahoo.com                     NaN                                       NaN\nyahoo.com                     NaN                                       NaN\nyale.edu            grid.47100.32                           Yale University\nyokohama-cu.ac.jp   grid.413045.7   Yokohama City University Medical Center\nyokohama-cu.ac.jp   grid.471657.6  Kihara Institute for Biological Research\nyokohama-cu.ac.jp   grid.470126.6         Yokohama City University Hospital\nyokohama-cu.ac.jp   grid.268441.d                  Yokohama City University\nzoetis.com                    NaN                                       NaN\n\n[316 rows x 2 columns]\n",
          "name": "stdout"
        }
      ]
    },
    {
      "metadata": {},
      "cell_type": "markdown",
      "source": "Anschließend wurde das Verfahren unter Einbeziehung der relationships-Datei wiederholt:"
    },
    {
      "metadata": {
        "trusted": true
      },
      "cell_type": "code",
      "source": "name_and_link_and_relationships['domain'] = name_and_link_and_relationships['link'].apply(extract_domain)\nname_and_link_and_relationships['suffix'] = name_and_link_and_relationships['link'].apply(extract_suffix)\nmerge_link_and_host_and_relationships = hybrid_publications.merge(name_and_link_and_relationships, on=['domain', 'suffix'])\nmerge_link_and_host_and_relationships = merge_link_and_host_and_relationships.drop_duplicates().reset_index(drop=True)\nmerge_link_and_host_and_relationships.to_csv('test_with_relationships.csv')\njoin_host_and_bearbeitet_and_relationships = pd.merge(bearbeitet, merge_link_and_host_and_relationships, how='left', left_on='email', right_on='host')\njoin_host_and_bearbeitet_relationships = join_host_and_bearbeitet_and_relationships.sort_values(by=['email']).reset_index(drop=True)\njoin_host_and_bearbeitet_and_relationships.to_csv('merge_with_relationships.csv')\nshow_result_with_relationships = pd.read_csv('merge_with_relationships.csv', index_col = 0, usecols = ['email','name', 'grid_id', 'relationship_type', 'related_grid_id'])",
      "execution_count": 28,
      "outputs": []
    },
    {
      "metadata": {
        "trusted": true
      },
      "cell_type": "code",
      "source": "print(show_result_with_relationships)",
      "execution_count": 29,
      "outputs": [
        {
          "output_type": "stream",
          "text": "                        grid_id  \\\nemail                             \nmeduniwien.ac.at  grid.22937.3d   \nmeduniwien.ac.at  grid.22937.3d   \nmeduniwien.ac.at  grid.22937.3d   \nmeduniwien.ac.at  grid.22937.3d   \nmeduniwien.ac.at  grid.22937.3d   \nmeduniwien.ac.at  grid.22937.3d   \nmeduniwien.ac.at  grid.22937.3d   \nmeduniwien.ac.at  grid.22937.3d   \nmeduniwien.ac.at  grid.454395.a   \nmeduniwien.ac.at  grid.476556.3   \nbruker.com        grid.423218.e   \nbruker.com        grid.423270.0   \nbruker.com        grid.423270.0   \nbruker.com        grid.423270.0   \nbruker.com        grid.423270.0   \nbruker.com        grid.423270.0   \nbruker.com        grid.423270.0   \nbruker.com        grid.461847.8   \nbruker.com        grid.473958.4   \nbruker.com        grid.481597.6   \nbruker.com        grid.481598.9   \nohsu.edu            grid.5288.7   \nohsu.edu            grid.5288.7   \nohsu.edu            grid.5288.7   \nohsu.edu            grid.5288.7   \nohsu.edu            grid.5288.7   \nohsu.edu            grid.5288.7   \nohsu.edu            grid.5288.7   \nohsu.edu            grid.5288.7   \nohsu.edu          grid.410436.4   \n...                         ...   \nudel.edu          grid.33489.35   \nhotmail.com                 NaN   \ncam.ac.uk           grid.5335.0   \ncam.ac.uk           grid.5335.0   \ncam.ac.uk           grid.5335.0   \ncam.ac.uk           grid.5335.0   \ncam.ac.uk           grid.5335.0   \ncam.ac.uk           grid.5335.0   \ncam.ac.uk           grid.5335.0   \ncam.ac.uk           grid.5335.0   \ncam.ac.uk           grid.5335.0   \ncam.ac.uk           grid.5335.0   \ncam.ac.uk           grid.5335.0   \ncam.ac.uk           grid.5335.0   \ncam.ac.uk           grid.5335.0   \ncam.ac.uk           grid.5335.0   \ncam.ac.uk           grid.5335.0   \ncam.ac.uk           grid.5335.0   \nfz-juelich.de       grid.8385.6   \nfz-juelich.de       grid.8385.6   \nfz-juelich.de       grid.8385.6   \nfz-juelich.de       grid.8385.6   \nfz-juelich.de       grid.8385.6   \ngmail.com                   NaN   \nuni-hamburg.de      grid.9026.d   \nuni-hamburg.de      grid.9026.d   \nuni-hamburg.de      grid.9026.d   \nuni-hamburg.de      grid.9026.d   \nuni-hamburg.de      grid.9026.d   \nuni-hamburg.de      grid.9026.d   \n\n                                                               name  \\\nemail                                                                 \nmeduniwien.ac.at                       Medical University of Vienna   \nmeduniwien.ac.at                       Medical University of Vienna   \nmeduniwien.ac.at                       Medical University of Vienna   \nmeduniwien.ac.at                       Medical University of Vienna   \nmeduniwien.ac.at                       Medical University of Vienna   \nmeduniwien.ac.at                       Medical University of Vienna   \nmeduniwien.ac.at                       Medical University of Vienna   \nmeduniwien.ac.at                       Medical University of Vienna   \nmeduniwien.ac.at  Ludwig Boltzmann Cluster for Cardiovascular Re...   \nmeduniwien.ac.at  Universitätsklinik für Hals-, Nasen- und Ohren...   \nbruker.com                                         Bruker (Germany)   \nbruker.com                                   Bruker (United States)   \nbruker.com                                   Bruker (United States)   \nbruker.com                                   Bruker (United States)   \nbruker.com                                   Bruker (United States)   \nbruker.com                                   Bruker (United States)   \nbruker.com                                   Bruker (United States)   \nbruker.com                                          Bruker (Canada)   \nbruker.com                                          Bruker (Israel)   \nbruker.com                                     Bruker (Switzerland)   \nbruker.com                                          Bruker (France)   \nohsu.edu                         Oregon Health & Science University   \nohsu.edu                         Oregon Health & Science University   \nohsu.edu                         Oregon Health & Science University   \nohsu.edu                         Oregon Health & Science University   \nohsu.edu                         Oregon Health & Science University   \nohsu.edu                         Oregon Health & Science University   \nohsu.edu                         Oregon Health & Science University   \nohsu.edu                         Oregon Health & Science University   \nohsu.edu                    Oregon National Primate Research Center   \n...                                                             ...   \nudel.edu                                     University of Delaware   \nhotmail.com                                                     NaN   \ncam.ac.uk                                   University of Cambridge   \ncam.ac.uk                                   University of Cambridge   \ncam.ac.uk                                   University of Cambridge   \ncam.ac.uk                                   University of Cambridge   \ncam.ac.uk                                   University of Cambridge   \ncam.ac.uk                                   University of Cambridge   \ncam.ac.uk                                   University of Cambridge   \ncam.ac.uk                                   University of Cambridge   \ncam.ac.uk                                   University of Cambridge   \ncam.ac.uk                                   University of Cambridge   \ncam.ac.uk                                   University of Cambridge   \ncam.ac.uk                                   University of Cambridge   \ncam.ac.uk                                   University of Cambridge   \ncam.ac.uk                                   University of Cambridge   \ncam.ac.uk                                   University of Cambridge   \ncam.ac.uk                                   University of Cambridge   \nfz-juelich.de                              Forschungszentrum Jülich   \nfz-juelich.de                              Forschungszentrum Jülich   \nfz-juelich.de                              Forschungszentrum Jülich   \nfz-juelich.de                              Forschungszentrum Jülich   \nfz-juelich.de                              Forschungszentrum Jülich   \ngmail.com                                                       NaN   \nuni-hamburg.de                                University of Hamburg   \nuni-hamburg.de                                University of Hamburg   \nuni-hamburg.de                                University of Hamburg   \nuni-hamburg.de                                University of Hamburg   \nuni-hamburg.de                                University of Hamburg   \nuni-hamburg.de                                University of Hamburg   \n\n                 relationship_type related_grid_id  \nemail                                               \nmeduniwien.ac.at           Related   grid.484678.1  \nmeduniwien.ac.at           Related   grid.461839.1  \nmeduniwien.ac.at           Related   grid.10420.37  \nmeduniwien.ac.at           Related   grid.411450.5  \nmeduniwien.ac.at           Related   grid.488544.1  \nmeduniwien.ac.at           Related   grid.488389.6  \nmeduniwien.ac.at           Related   grid.411904.9  \nmeduniwien.ac.at             Child   grid.476556.3  \nmeduniwien.ac.at            Parent   grid.419350.a  \nmeduniwien.ac.at            Parent   grid.22937.3d  \nbruker.com                  Parent   grid.423270.0  \nbruker.com                   Child   grid.461847.8  \nbruker.com                   Child   grid.481598.9  \nbruker.com                   Child   grid.423218.e  \nbruker.com                   Child   grid.473958.4  \nbruker.com                   Child   grid.481597.6  \nbruker.com                   Child   grid.432720.0  \nbruker.com                  Parent   grid.423270.0  \nbruker.com                  Parent   grid.423270.0  \nbruker.com                  Parent   grid.423270.0  \nbruker.com                  Parent   grid.423270.0  \nohsu.edu                   Related   grid.414029.a  \nohsu.edu                   Related   grid.488511.1  \nohsu.edu                   Related   grid.410436.4  \nohsu.edu                   Related   grid.410404.5  \nohsu.edu                   Related   grid.416636.0  \nohsu.edu                   Related   grid.415835.e  \nohsu.edu                   Related   grid.433851.8  \nohsu.edu                     Child   grid.471405.3  \nohsu.edu                   Related     grid.5288.7  \n...                            ...             ...  \nudel.edu                     Child   grid.468347.a  \nhotmail.com                    NaN             NaN  \ncam.ac.uk                  Related   grid.120073.7  \ncam.ac.uk                  Related   grid.415163.4  \ncam.ac.uk                  Related   grid.469353.e  \ncam.ac.uk                  Related   grid.414810.8  \ncam.ac.uk                  Related   grid.454369.9  \ncam.ac.uk                  Related   grid.417155.3  \ncam.ac.uk                  Related   grid.415519.d  \ncam.ac.uk                  Related   grid.416047.0  \ncam.ac.uk                    Child   grid.498239.d  \ncam.ac.uk                    Child   grid.431478.d  \ncam.ac.uk                    Child   grid.468106.d  \ncam.ac.uk                    Child   grid.470869.4  \ncam.ac.uk                    Child   grid.470900.a  \ncam.ac.uk                    Child   grid.482849.b  \ncam.ac.uk                    Child   grid.450000.1  \ncam.ac.uk                    Child   grid.449973.4  \nfz-juelich.de               Parent   grid.211011.2  \nfz-juelich.de                Child   grid.483325.b  \nfz-juelich.de                Child   grid.461896.4  \nfz-juelich.de                Child   grid.461895.7  \nfz-juelich.de                Child   grid.494742.8  \ngmail.com                      NaN             NaN  \nuni-hamburg.de             Related   grid.435054.3  \nuni-hamburg.de             Related   grid.473618.f  \nuni-hamburg.de             Related   grid.491928.f  \nuni-hamburg.de             Related   grid.13648.38  \nuni-hamburg.de               Child   grid.466493.a  \nuni-hamburg.de               Child   grid.500262.3  \n\n[1556 rows x 4 columns]\n",
          "name": "stdout"
        }
      ]
    },
    {
      "metadata": {},
      "cell_type": "markdown",
      "source": "### 4 Diskussion\n\nMan könnte noch die Angaben in der Datei „relationships.csv“ miteinbeziehen, um Institutionen, die anderen untergeordnet sind und evtl. die gleiche oder erweiterte Emailadressen verwenden, korrekt zuzuordnen. In der Tabelle merge_with_relationships.csv sind die in Beziehung stehenden Institutionen zwar verzeichnet, aber nur mit ihrer Grid-Id, nicht mit Namen. Dazu haben wir noch keine Lösung.\n\nBei einigen nicht erfolgten Zuordnungen liegt es daran, dass eine subdomain vorhanden ist, die wir noch nicht extrahieren und miteinbeziehen konnten.\n\nIn anderen Fällen konnten wir uns leider nicht erklären, warum keine korrekte Zuordnung erfolgt ist.\n\nZur Lösung dieser Probleme müsste der Algorithmus bei den extract-Funktionen noch verfeinert werden."
    },
    {
      "metadata": {},
      "cell_type": "markdown",
      "source": "### 5 Fazit\n\nInsgesamt funktioniert das Vorgehen ganz gut, sodass relativ viele Emailadressen korrekt zugeordnet werden können."
    }
  ],
  "metadata": {
    "kernelspec": {
      "name": "python36",
      "display_name": "Python 3.6",
      "language": "python"
    },
    "language_info": {
      "mimetype": "text/x-python",
      "nbconvert_exporter": "python",
      "name": "python",
      "pygments_lexer": "ipython3",
      "version": "3.6.6",
      "file_extension": ".py",
      "codemirror_mode": {
        "version": 3,
        "name": "ipython"
      }
    }
  },
  "nbformat": 4,
  "nbformat_minor": 2
}
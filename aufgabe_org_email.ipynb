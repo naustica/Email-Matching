{
  "cells": [
    {
      "metadata": {
        "trusted": true
      },
      "cell_type": "code",
      "source": "import pandas as pd",
      "execution_count": 106,
      "outputs": []
    },
    {
      "metadata": {
        "trusted": true
      },
      "cell_type": "code",
      "source": "hybrid_publications = pd.read_csv('hybrid_publications.csv', usecols=['host'])\nbearbeitet = pd.read_csv('guete_bearbeitet.csv', index_col = 0)\ninstitutes = pd.read_csv('institutes.csv', usecols=['grid_id','name'])\nlinks = pd.read_csv('links.csv')",
      "execution_count": 107,
      "outputs": []
    },
    {
      "metadata": {
        "trusted": true
      },
      "cell_type": "code",
      "source": "print(hybrid_publications.head())",
      "execution_count": 108,
      "outputs": [
        {
          "output_type": "stream",
          "text": "             host\n0  bradford.ac.uk\n1         upol.cz\n2       uwe.ac.uk\n3        sina.com\n4     dlmu.edu.cn\n",
          "name": "stdout"
        }
      ]
    },
    {
      "metadata": {
        "trusted": true
      },
      "cell_type": "code",
      "source": "print(bearbeitet.head())",
      "execution_count": 109,
      "outputs": [
        {
          "output_type": "stream",
          "text": "              email                                            tdm_url  \\\n0  meduniwien.ac.at  https://api.elsevier.com/content/article/PII:S...   \n1        bruker.com  http://link.springer.com/article/10.1007/s1183...   \n2          ohsu.edu  https://api.elsevier.com/content/article/PII:S...   \n3           cox.net                                                      \n4        amc.uva.nl  http://link.springer.com/article/10.1007/s1176...   \n\n                time_stamp    mine_method                           doi  \\\n0  2018-12-17 16:06:12 UTC   Elsevier XML   10.1016/j.ddtec.2014.03.009   \n1  2018-12-18 08:00:29 UTC  Springer HTML     10.1007/s11837-018-2752-0   \n2  2018-12-17 16:06:12 UTC   Elsevier XML  10.1016/j.ocemod.2015.12.007   \n3  2018-12-16 12:29:19 UTC  PMC OAI (NIH)     10.1007/s13752-016-0244-4   \n4  2019-01-04 14:40:57 UTC  Springer HTML     10.1007/s11764-018-0690-z   \n\n   recall  precision comment  \n0    True       True     NaN  \n1    True       True     NaN  \n2    True       True     NaN  \n3    True       True     NaN  \n4    True       True     NaN  \n",
          "name": "stdout"
        }
      ]
    },
    {
      "metadata": {
        "trusted": true
      },
      "cell_type": "code",
      "source": "print(institutes.head())",
      "execution_count": 110,
      "outputs": [
        {
          "output_type": "stream",
          "text": "       grid_id                            name\n0  grid.1001.0  Australian National University\n1  grid.1002.3               Monash University\n2  grid.1003.2        University of Queensland\n3  grid.1004.5            Macquarie University\n4  grid.1005.4                  UNSW Australia\n",
          "name": "stdout"
        }
      ]
    },
    {
      "metadata": {
        "trusted": true
      },
      "cell_type": "code",
      "source": "print(links.head())",
      "execution_count": 111,
      "outputs": [
        {
          "output_type": "stream",
          "text": "       grid_id                      link\n0  grid.1001.0    http://www.anu.edu.au/\n1  grid.1002.3    http://www.monash.edu/\n2  grid.1003.2     http://www.uq.edu.au/\n3  grid.1004.5         http://mq.edu.au/\n4  grid.1005.4  https://www.unsw.edu.au/\n",
          "name": "stdout"
        }
      ]
    },
    {
      "metadata": {
        "trusted": true
      },
      "cell_type": "code",
      "source": "name_and_link = institutes.merge(links, on='grid_id')",
      "execution_count": 112,
      "outputs": []
    },
    {
      "metadata": {
        "trusted": true
      },
      "cell_type": "code",
      "source": "print(name_and_link.head())",
      "execution_count": 113,
      "outputs": [
        {
          "output_type": "stream",
          "text": "       grid_id                            name                      link\n0  grid.1001.0  Australian National University    http://www.anu.edu.au/\n1  grid.1002.3               Monash University    http://www.monash.edu/\n2  grid.1003.2        University of Queensland     http://www.uq.edu.au/\n3  grid.1004.5            Macquarie University         http://mq.edu.au/\n4  grid.1005.4                  UNSW Australia  https://www.unsw.edu.au/\n",
          "name": "stdout"
        }
      ]
    },
    {
      "metadata": {
        "trusted": true
      },
      "cell_type": "code",
      "source": "def extract_host(link):\n    link = link.replace('http://', '')\n    first_position = link.find('www')\n    last_position = link.find('/')\n    return link[first_position+4:last_position]",
      "execution_count": 114,
      "outputs": []
    },
    {
      "metadata": {
        "trusted": true
      },
      "cell_type": "code",
      "source": "print(extract_host('http://www.kek.de/'))",
      "execution_count": 115,
      "outputs": [
        {
          "output_type": "stream",
          "text": "kek.de\n",
          "name": "stdout"
        }
      ]
    },
    {
      "metadata": {
        "trusted": true
      },
      "cell_type": "code",
      "source": "name_and_link['link'] = name_and_link['link'].apply(extract_host)",
      "execution_count": 116,
      "outputs": []
    },
    {
      "metadata": {
        "trusted": true
      },
      "cell_type": "code",
      "source": "merge_link_and_host = hybrid_publications.merge(name_and_link, left_on='host', right_on='link')",
      "execution_count": 117,
      "outputs": []
    },
    {
      "metadata": {
        "trusted": true
      },
      "cell_type": "code",
      "source": "print(merge_link_and_host.head())",
      "execution_count": 118,
      "outputs": [
        {
          "output_type": "stream",
          "text": "             host      grid_id                    name            link\n0  bradford.ac.uk  grid.6268.a  University of Bradford  bradford.ac.uk\n1  bradford.ac.uk  grid.6268.a  University of Bradford  bradford.ac.uk\n2  bradford.ac.uk  grid.6268.a  University of Bradford  bradford.ac.uk\n3  bradford.ac.uk  grid.6268.a  University of Bradford  bradford.ac.uk\n4  bradford.ac.uk  grid.6268.a  University of Bradford  bradford.ac.uk\n",
          "name": "stdout"
        }
      ]
    },
    {
      "metadata": {
        "trusted": true
      },
      "cell_type": "code",
      "source": "merge_link_and_host = merge_link_and_host.drop_duplicates().reset_index()",
      "execution_count": 119,
      "outputs": []
    },
    {
      "metadata": {
        "trusted": true
      },
      "cell_type": "code",
      "source": "print(merge_link_and_host.head())",
      "execution_count": 120,
      "outputs": [
        {
          "output_type": "stream",
          "text": "   index            host        grid_id  \\\n0      0  bradford.ac.uk    grid.6268.a   \n1     41         upol.cz  grid.10979.36   \n2     57       uwe.ac.uk    grid.6518.a   \n3    138      agh.edu.pl    grid.9922.0   \n4    280          jku.at    grid.9970.7   \n\n                                       name            link  \n0                    University of Bradford  bradford.ac.uk  \n1               Palacký University, Olomouc         upol.cz  \n2         University of the West of England       uwe.ac.uk  \n3  AGH University of Science and Technology      agh.edu.pl  \n4        Johannes Kepler University of Linz          jku.at  \n",
          "name": "stdout"
        }
      ]
    },
    {
      "metadata": {
        "trusted": true
      },
      "cell_type": "code",
      "source": "join_host_and_bearbeitet = pd.merge(bearbeitet, merge_link_and_host, how='left', left_on='email', right_on='link')",
      "execution_count": 121,
      "outputs": []
    },
    {
      "metadata": {
        "trusted": true
      },
      "cell_type": "code",
      "source": "print(join_host_and_bearbeitet.head())",
      "execution_count": 122,
      "outputs": [
        {
          "output_type": "stream",
          "text": "              email                                            tdm_url  \\\n0  meduniwien.ac.at  https://api.elsevier.com/content/article/PII:S...   \n1  meduniwien.ac.at  https://api.elsevier.com/content/article/PII:S...   \n2        bruker.com  http://link.springer.com/article/10.1007/s1183...   \n3          ohsu.edu  https://api.elsevier.com/content/article/PII:S...   \n4          ohsu.edu  https://api.elsevier.com/content/article/PII:S...   \n\n                time_stamp    mine_method                           doi  \\\n0  2018-12-17 16:06:12 UTC   Elsevier XML   10.1016/j.ddtec.2014.03.009   \n1  2018-12-17 16:06:12 UTC   Elsevier XML   10.1016/j.ddtec.2014.03.009   \n2  2018-12-18 08:00:29 UTC  Springer HTML     10.1007/s11837-018-2752-0   \n3  2018-12-17 16:06:12 UTC   Elsevier XML  10.1016/j.ocemod.2015.12.007   \n4  2018-12-17 16:06:12 UTC   Elsevier XML  10.1016/j.ocemod.2015.12.007   \n\n   recall  precision comment    index              host        grid_id  \\\n0    True       True     NaN  54216.0  meduniwien.ac.at  grid.22937.3d   \n1    True       True     NaN  54217.0  meduniwien.ac.at  grid.454395.a   \n2    True       True     NaN      NaN               NaN            NaN   \n3    True       True     NaN  85689.0          ohsu.edu    grid.5288.7   \n4    True       True     NaN  85690.0          ohsu.edu  grid.410436.4   \n\n                                                name              link  \n0                       Medical University of Vienna  meduniwien.ac.at  \n1  Ludwig Boltzmann Cluster for Cardiovascular Re...  meduniwien.ac.at  \n2                                                NaN               NaN  \n3                 Oregon Health & Science University          ohsu.edu  \n4            Oregon National Primate Research Center          ohsu.edu  \n",
          "name": "stdout"
        }
      ]
    },
    {
      "metadata": {
        "trusted": true
      },
      "cell_type": "code",
      "source": "join_host_and_bearbeitet = join_host_and_bearbeitet.sort_values(by=['email'])",
      "execution_count": 123,
      "outputs": []
    },
    {
      "metadata": {
        "trusted": true
      },
      "cell_type": "code",
      "source": "join_host_and_bearbeitet.to_csv('merge.csv')",
      "execution_count": 124,
      "outputs": []
    },
    {
      "metadata": {
        "trusted": true
      },
      "cell_type": "code",
      "source": "show_result = pd.read_csv('merge.csv', index_col = 0, usecols = ['email','name', 'grid_id'])",
      "execution_count": 128,
      "outputs": []
    },
    {
      "metadata": {
        "trusted": true,
        "scrolled": true
      },
      "cell_type": "code",
      "source": "print(show_result)",
      "execution_count": 129,
      "outputs": [
        {
          "output_type": "stream",
          "text": "                           grid_id                                      name\nemail                                                                       \n                               NaN                                       NaN\n                               NaN                                       NaN\n                               NaN                                       NaN\n                               NaN                                       NaN\n                               NaN                                       NaN\n126.com                        NaN                                       NaN\nOutlook.com                    NaN                                       NaN\naau.in               grid.411373.3             Anand Agricultural University\nadm.cgmh.org.tw                NaN                                       NaN\nagh.edu.pl             grid.9922.0  AGH University of Science and Technology\namc.nl                         NaN                                       NaN\namc.uva.nl                     NaN                                       NaN\namc.uva.nl                     NaN                                       NaN\namc.uva.nl                     NaN                                       NaN\namu.edu.pl                     NaN                                       NaN\naok.pte.hu                     NaN                                       NaN\nastrazeneca.com      grid.418151.8                      AstraZeneca (Sweden)\nbartshealth.nhs.uk   grid.416036.6                     London Chest Hospital\nbartshealth.nhs.uk   grid.139534.9                    Barts Health NHS Trust\nbartshealth.nhs.uk   grid.439227.9                         Mile End Hospital\nbath.ac.uk             grid.7340.0                        University of Bath\nbayer.com                      NaN                                       NaN\nbc3research.org      grid.423984.0          Basque Centre for Climate Change\nbham.ac.uk                     NaN                                       NaN\nbham.ac.uk                     NaN                                       NaN\nbiofilm.montana.edu            NaN                                       NaN\nbris.ac.uk                     NaN                                       NaN\nbrown.edu            grid.40263.33                          Brown University\nbruker.com                     NaN                                       NaN\nbrunel.ac.uk           grid.7728.a                  Brunel University London\n...                            ...                                       ...\nunivie.ac.at                   NaN                                       NaN\nusal.es              grid.11762.33                   University of Salamanca\nutoronto.ca          grid.17063.33                     University of Toronto\nutu.fi                 grid.1374.1                       University of Turku\nuva.nl                 grid.7177.6                   University of Amsterdam\nuva.nl                 grid.7177.6                   University of Amsterdam\nuzh.ch                 grid.7400.3                      University of Zurich\nvgregion.se          grid.413652.7                    Kärnsjukhuset i Skövde\nvgregion.se          grid.468026.e                   Södra Älvsborg Hospital\nvgregion.se          grid.416029.8                        Skaraborg Hospital\nvgregion.se          grid.415366.3                    Folktandvården Kyrkbyn\nvgregion.se          grid.466872.9                          Kungälvs sjukhus\nvgregion.se          grid.452005.6          Västra Götaland Regional Council\nvumc.nl              grid.16872.3a              VU University Medical Center\nwa.amu.edu.pl                  NaN                                       NaN\nwho-umc.org          grid.420224.2                 Uppsala Monitoring Centre\nwip.pcz.pl                     NaN                                       NaN\nwip.pcz.pl                     NaN                                       NaN\nwp.pl                          NaN                                       NaN\nwur.nl                         NaN                                       NaN\nxmu.edu.cn                     NaN                                       NaN\nyahoo.co.jp                    NaN                                       NaN\nyahoo.com                      NaN                                       NaN\nyahoo.com                      NaN                                       NaN\nyale.edu                       NaN                                       NaN\nyokohama-cu.ac.jp    grid.413045.7   Yokohama City University Medical Center\nyokohama-cu.ac.jp    grid.471657.6  Kihara Institute for Biological Research\nyokohama-cu.ac.jp    grid.470126.6         Yokohama City University Hospital\nyokohama-cu.ac.jp    grid.268441.d                  Yokohama City University\nzoetis.com                     NaN                                       NaN\n\n[267 rows x 2 columns]\n",
          "name": "stdout"
        }
      ]
    },
    {
      "metadata": {
        "trusted": true
      },
      "cell_type": "code",
      "source": "name_and_link.to_csv('insti_and_link.csv')",
      "execution_count": 127,
      "outputs": []
    },
    {
      "metadata": {
        "trusted": true
      },
      "cell_type": "code",
      "source": "big_merge = pd.merge(join_host_and_bearbeitet, hybrid_publications, left_on='email', right_on='host')",
      "execution_count": 138,
      "outputs": []
    },
    {
      "metadata": {
        "trusted": true
      },
      "cell_type": "code",
      "source": "big_merge.to_csv('test.csv')",
      "execution_count": 139,
      "outputs": []
    },
    {
      "metadata": {
        "trusted": true
      },
      "cell_type": "code",
      "source": "",
      "execution_count": null,
      "outputs": []
    }
  ],
  "metadata": {
    "kernelspec": {
      "name": "python36",
      "display_name": "Python 3.6",
      "language": "python"
    },
    "language_info": {
      "mimetype": "text/x-python",
      "nbconvert_exporter": "python",
      "name": "python",
      "pygments_lexer": "ipython3",
      "version": "3.6.6",
      "file_extension": ".py",
      "codemirror_mode": {
        "version": 3,
        "name": "ipython"
      }
    }
  },
  "nbformat": 4,
  "nbformat_minor": 2
}
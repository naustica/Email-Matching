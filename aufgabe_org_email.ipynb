{
  "cells": [
    {
      "metadata": {},
      "cell_type": "markdown",
      "source": "# Thema: Organisations-IDs für wissenschaftliche Einrichtungen anhand von Emailadressen gewinnen"
    },
    {
      "metadata": {},
      "cell_type": "markdown",
      "source": "### 1 Fragestellung\n\nDie Aufgabe bestand darin, die Emailadressen den entsprechenden Institutionen zuzuordnen.\n\nDie Datenquellen dafür waren:\n\n-hybrid_publications.csv https://github.com/subugoe/hybrid_oa_dashboard/blob/master/data/hybrid_publications.csv?raw=true\n\n(Tabelle zu hybriden OA-Artikeln mit Angaben zu Lizenz, Verlag, DOI des OA-Artikels, Erscheinungsjahr, jährl. Umfang der Zeitschrift uvm wie Host, Subdomain, Domain und Suffix, erstellt mit dem Analysewerkzeug Hybrid OA Dashboard)\n\n- GRID Open Data Dump https://figshare.com/articles/GRID_release_2018-11-14/7346852\n\n (Darin sind Tabellen mit Informationen zu Institutionen, die jew. durch ihre Grid-Id identifiziert werden, sowie Akronyme, Adressen, andere Bezeichnungen für die Institutionen, weitere Ids, uvm. wie z.B. eine Datei, in der das Verhältnis der verschiedenen Institutionen zueinander verzeichnet ist, z.B. Institute, die ihrer Universität untergeordnet sind.)\n\nAußerdem wurde die Datei guete_bearbeitet.csv verwendet, die im Rahmen unserer ersten Aufgabe zur Güte von Recall und Precision erstellt wurde."
    },
    {
      "metadata": {},
      "cell_type": "markdown",
      "source": "### 2 Vorgehen\n\nAufgabe: Matching domains mit GRID Webseiten-URLs\n\nTipp: https://pandas.pydata.org/pandas-docs/stable/reference/api/pandas.DataFrlame.join.html\n\nDie Grundidee ist, mithilfe der Programmierbibliothek Pandas von Python passende Spalten aus den vielen verschiedenen Datenquellen per „Join“ zusammenzustellen. So soll man Ende die Emailadressen den Institutionen zuordnen können."
    },
    {
      "metadata": {
        "trusted": true
      },
      "cell_type": "code",
      "source": "#!pip install pandas\nimport pandas as pd",
      "execution_count": 1,
      "outputs": []
    },
    {
      "metadata": {
        "trusted": true
      },
      "cell_type": "code",
      "source": "hybrid_publications = pd.read_csv('hybrid_publications.csv', usecols=['host', 'domain', 'suffix'])\nbearbeitet = pd.read_csv('guete_bearbeitet.csv', index_col = 0)\ninstitutes = pd.read_csv('institutes.csv', usecols=['grid_id','name'])\nlinks = pd.read_csv('links.csv')",
      "execution_count": 2,
      "outputs": []
    },
    {
      "metadata": {
        "trusted": true
      },
      "cell_type": "code",
      "source": "print(hybrid_publications.head())",
      "execution_count": 3,
      "outputs": [
        {
          "output_type": "stream",
          "text": "             host    domain  suffix\n0  bradford.ac.uk  bradford   ac.uk\n1         upol.cz      upol      cz\n2       uwe.ac.uk       uwe   ac.uk\n3        sina.com      sina     com\n4     dlmu.edu.cn      dlmu  edu.cn\n",
          "name": "stdout"
        }
      ]
    },
    {
      "metadata": {
        "trusted": true
      },
      "cell_type": "code",
      "source": "print(bearbeitet.head())",
      "execution_count": 4,
      "outputs": [
        {
          "output_type": "stream",
          "text": "              email                                            tdm_url  \\\n0  meduniwien.ac.at  https://api.elsevier.com/content/article/PII:S...   \n1        bruker.com  http://link.springer.com/article/10.1007/s1183...   \n2          ohsu.edu  https://api.elsevier.com/content/article/PII:S...   \n3           cox.net                                                      \n4        amc.uva.nl  http://link.springer.com/article/10.1007/s1176...   \n\n                time_stamp    mine_method                           doi  \\\n0  2018-12-17 16:06:12 UTC   Elsevier XML   10.1016/j.ddtec.2014.03.009   \n1  2018-12-18 08:00:29 UTC  Springer HTML     10.1007/s11837-018-2752-0   \n2  2018-12-17 16:06:12 UTC   Elsevier XML  10.1016/j.ocemod.2015.12.007   \n3  2018-12-16 12:29:19 UTC  PMC OAI (NIH)     10.1007/s13752-016-0244-4   \n4  2019-01-04 14:40:57 UTC  Springer HTML     10.1007/s11764-018-0690-z   \n\n   recall  precision comment  \n0    True       True     NaN  \n1    True       True     NaN  \n2    True       True     NaN  \n3    True       True     NaN  \n4    True       True     NaN  \n",
          "name": "stdout"
        }
      ]
    },
    {
      "metadata": {
        "trusted": true
      },
      "cell_type": "code",
      "source": "print(institutes.head())",
      "execution_count": 5,
      "outputs": [
        {
          "output_type": "stream",
          "text": "       grid_id                            name\n0  grid.1001.0  Australian National University\n1  grid.1002.3               Monash University\n2  grid.1003.2        University of Queensland\n3  grid.1004.5            Macquarie University\n4  grid.1005.4                  UNSW Australia\n",
          "name": "stdout"
        }
      ]
    },
    {
      "metadata": {
        "trusted": true
      },
      "cell_type": "code",
      "source": "print(links.head())",
      "execution_count": 6,
      "outputs": [
        {
          "output_type": "stream",
          "text": "       grid_id                      link\n0  grid.1001.0    http://www.anu.edu.au/\n1  grid.1002.3    http://www.monash.edu/\n2  grid.1003.2     http://www.uq.edu.au/\n3  grid.1004.5         http://mq.edu.au/\n4  grid.1005.4  https://www.unsw.edu.au/\n",
          "name": "stdout"
        }
      ]
    },
    {
      "metadata": {},
      "cell_type": "markdown",
      "source": "Zunächst wurden die Dateien links und institutes\" durch \"merge\" basierend auf der beiden gemeinsamen Spalte \"grid_id\" zusammengefügt in der neuen Datei name_and_link."
    },
    {
      "metadata": {
        "trusted": true
      },
      "cell_type": "code",
      "source": "name_and_link = institutes.merge(links, on='grid_id')",
      "execution_count": 7,
      "outputs": []
    },
    {
      "metadata": {
        "trusted": true
      },
      "cell_type": "code",
      "source": "print(name_and_link.head())",
      "execution_count": 8,
      "outputs": [
        {
          "output_type": "stream",
          "text": "       grid_id                            name                      link\n0  grid.1001.0  Australian National University    http://www.anu.edu.au/\n1  grid.1002.3               Monash University    http://www.monash.edu/\n2  grid.1003.2        University of Queensland     http://www.uq.edu.au/\n3  grid.1004.5            Macquarie University         http://mq.edu.au/\n4  grid.1005.4                  UNSW Australia  https://www.unsw.edu.au/\n",
          "name": "stdout"
        }
      ]
    },
    {
      "metadata": {},
      "cell_type": "markdown",
      "source": "Mithilfe der Funktionen extract_domain und extract_suffix konnten Bestandteile wie \"http://\", \"www\" und \"/\"  aus der Datei herausgefiltert werden. "
    },
    {
      "metadata": {
        "trusted": true
      },
      "cell_type": "code",
      "source": "def extract_domain(link):\n    link = link.replace('http://', '')\n    first_position = link.find('www')\n    last_position = link.find('/')\n    link = link[first_position+4:last_position]\n    link = link.split('.')\n    domain = link[0]\n    return domain\n\ndef extract_suffix(link):\n    link = link.replace('http://', '')\n    first_position = link.find('www')\n    last_position = link.find('/')\n    link = link[first_position+4:last_position]\n    link = link.split('.')\n    suffix_list = []\n    for element in link:\n        suffix_list.append(element)\n    suffix_list = suffix_list[1::]\n    suffix = \"\"\n    for element in suffix_list:\n        suffix = suffix + \".\" + str(element)\n    return suffix[1::]",
      "execution_count": 9,
      "outputs": []
    },
    {
      "metadata": {
        "trusted": true
      },
      "cell_type": "code",
      "source": "print(extract_suffix('http://www.kek.ac.de/'))",
      "execution_count": 10,
      "outputs": [
        {
          "output_type": "stream",
          "text": "ac.de\n",
          "name": "stdout"
        }
      ]
    },
    {
      "metadata": {},
      "cell_type": "markdown",
      "source": "Dann wurden auch name_and_link mit hybrid_publications basierend auf den Spalten \"suffix\" zusammengefügt zur Datei merge_link_and_host. "
    },
    {
      "metadata": {
        "trusted": true
      },
      "cell_type": "code",
      "source": "name_and_link['domain'] = name_and_link['link'].apply(extract_domain)\nname_and_link['suffix'] = name_and_link['link'].apply(extract_suffix)",
      "execution_count": 11,
      "outputs": []
    },
    {
      "metadata": {
        "trusted": true
      },
      "cell_type": "code",
      "source": "merge_link_and_host = hybrid_publications.merge(name_and_link, on=['domain', 'suffix'])",
      "execution_count": 12,
      "outputs": []
    },
    {
      "metadata": {
        "trusted": true
      },
      "cell_type": "code",
      "source": "print(merge_link_and_host.head())",
      "execution_count": 13,
      "outputs": [
        {
          "output_type": "stream",
          "text": "             host    domain suffix      grid_id                    name  \\\n0  bradford.ac.uk  bradford  ac.uk  grid.6268.a  University of Bradford   \n1  bradford.ac.uk  bradford  ac.uk  grid.6268.a  University of Bradford   \n2  bradford.ac.uk  bradford  ac.uk  grid.6268.a  University of Bradford   \n3  bradford.ac.uk  bradford  ac.uk  grid.6268.a  University of Bradford   \n4  bradford.ac.uk  bradford  ac.uk  grid.6268.a  University of Bradford   \n\n                                  link  \n0  http://www.bradford.ac.uk/external/  \n1  http://www.bradford.ac.uk/external/  \n2  http://www.bradford.ac.uk/external/  \n3  http://www.bradford.ac.uk/external/  \n4  http://www.bradford.ac.uk/external/  \n",
          "name": "stdout"
        }
      ]
    },
    {
      "metadata": {},
      "cell_type": "markdown",
      "source": "Durch \"drop.duplicates\" wurden dann alle Doppelungen entfernt."
    },
    {
      "metadata": {
        "trusted": true
      },
      "cell_type": "code",
      "source": "merge_link_and_host = merge_link_and_host.drop_duplicates().reset_index(drop=True)",
      "execution_count": 14,
      "outputs": []
    },
    {
      "metadata": {
        "trusted": true
      },
      "cell_type": "code",
      "source": "print(merge_link_and_host.head())",
      "execution_count": 15,
      "outputs": [
        {
          "output_type": "stream",
          "text": "                     host    domain suffix        grid_id  \\\n0          bradford.ac.uk  bradford  ac.uk    grid.6268.a   \n1  student.bradford.ac.uk  bradford  ac.uk    grid.6268.a   \n2                 upol.cz      upol     cz  grid.10979.36   \n3           oushi.upol.cz      upol     cz  grid.10979.36   \n4          optics.upol.cz      upol     cz  grid.10979.36   \n\n                          name                                 link  \n0       University of Bradford  http://www.bradford.ac.uk/external/  \n1       University of Bradford  http://www.bradford.ac.uk/external/  \n2  Palacký University, Olomouc               http://www.upol.cz/en/  \n3  Palacký University, Olomouc               http://www.upol.cz/en/  \n4  Palacký University, Olomouc               http://www.upol.cz/en/  \n",
          "name": "stdout"
        }
      ]
    },
    {
      "metadata": {
        "trusted": true
      },
      "cell_type": "code",
      "source": "merge_link_and_host.to_csv('test.csv')",
      "execution_count": 16,
      "outputs": []
    },
    {
      "metadata": {},
      "cell_type": "markdown",
      "source": "Anschließend wurde merge_link_and_host mit bearbeitet (Ergebnis der ersten Aufgabe zu Güte von Recall und Precision) zur neuen Datei join_host_and_bearbeitet zusammengefügt."
    },
    {
      "metadata": {
        "trusted": true
      },
      "cell_type": "code",
      "source": "join_host_and_bearbeitet = pd.merge(bearbeitet, merge_link_and_host, how='left', left_on='email', right_on='host')",
      "execution_count": 17,
      "outputs": []
    },
    {
      "metadata": {
        "trusted": true
      },
      "cell_type": "code",
      "source": "print(join_host_and_bearbeitet.head())",
      "execution_count": 18,
      "outputs": [
        {
          "output_type": "stream",
          "text": "              email                                            tdm_url  \\\n0  meduniwien.ac.at  https://api.elsevier.com/content/article/PII:S...   \n1  meduniwien.ac.at  https://api.elsevier.com/content/article/PII:S...   \n2        bruker.com  http://link.springer.com/article/10.1007/s1183...   \n3          ohsu.edu  https://api.elsevier.com/content/article/PII:S...   \n4          ohsu.edu  https://api.elsevier.com/content/article/PII:S...   \n\n                time_stamp    mine_method                           doi  \\\n0  2018-12-17 16:06:12 UTC   Elsevier XML   10.1016/j.ddtec.2014.03.009   \n1  2018-12-17 16:06:12 UTC   Elsevier XML   10.1016/j.ddtec.2014.03.009   \n2  2018-12-18 08:00:29 UTC  Springer HTML     10.1007/s11837-018-2752-0   \n3  2018-12-17 16:06:12 UTC   Elsevier XML  10.1016/j.ocemod.2015.12.007   \n4  2018-12-17 16:06:12 UTC   Elsevier XML  10.1016/j.ocemod.2015.12.007   \n\n   recall  precision comment              host      domain suffix  \\\n0    True       True     NaN  meduniwien.ac.at  meduniwien  ac.at   \n1    True       True     NaN  meduniwien.ac.at  meduniwien  ac.at   \n2    True       True     NaN               NaN         NaN    NaN   \n3    True       True     NaN          ohsu.edu        ohsu    edu   \n4    True       True     NaN          ohsu.edu        ohsu    edu   \n\n         grid_id                                               name  \\\n0  grid.22937.3d                       Medical University of Vienna   \n1  grid.454395.a  Ludwig Boltzmann Cluster for Cardiovascular Re...   \n2            NaN                                                NaN   \n3    grid.5288.7                 Oregon Health & Science University   \n4  grid.410436.4            Oregon National Primate Research Center   \n\n                                                link  \n0   http://www.meduniwien.ac.at/homepage/1/homepage/  \n1  http://www.meduniwien.ac.at/cvd/StartseiteLBG.htm  \n2                                                NaN  \n3                            http://www.ohsu.edu/xd/  \n4  http://www.ohsu.edu/xd/research/centers-instit...  \n",
          "name": "stdout"
        }
      ]
    },
    {
      "metadata": {},
      "cell_type": "markdown",
      "source": "Schließlich wurden die Werte in dieser Datei noch anhand der Emailadressen sortiert."
    },
    {
      "metadata": {
        "trusted": true
      },
      "cell_type": "code",
      "source": "join_host_and_bearbeitet = join_host_and_bearbeitet.sort_values(by=['email']).reset_index(drop=True)",
      "execution_count": 19,
      "outputs": []
    },
    {
      "metadata": {
        "trusted": true
      },
      "cell_type": "code",
      "source": "join_host_and_bearbeitet.to_csv('merge.csv')",
      "execution_count": 20,
      "outputs": []
    },
    {
      "metadata": {
        "trusted": true
      },
      "cell_type": "code",
      "source": "show_result = pd.read_csv('merge.csv', index_col = 0, usecols = ['email','name', 'grid_id'])",
      "execution_count": 21,
      "outputs": []
    },
    {
      "metadata": {},
      "cell_type": "markdown",
      "source": "### 3 Ergebnisse\n\nViele E-Mailadressen konnten korrekt zugeordnet werden.\n\nProblematisch für das Vorgehen sind logischerweise vor allem die Fälle, in denen die Forscher keine Emailadressen ihrer Institution angegeben haben, sondern Gmail, Yahoo oder ähnliches."
    },
    {
      "metadata": {
        "trusted": true,
        "scrolled": true
      },
      "cell_type": "code",
      "source": "print(show_result)",
      "execution_count": 22,
      "outputs": [
        {
          "output_type": "stream",
          "text": "                           grid_id                                      name\nemail                                                                       \n                               NaN                                       NaN\n                               NaN                                       NaN\n                               NaN                                       NaN\n                               NaN                                       NaN\n                               NaN                                       NaN\n126.com                        NaN                                       NaN\nOutlook.com                    NaN                                       NaN\naau.in               grid.411373.3             Anand Agricultural University\nadm.cgmh.org.tw                NaN                                       NaN\nagh.edu.pl             grid.9922.0  AGH University of Science and Technology\namc.nl                         NaN                                       NaN\namc.uva.nl             grid.7177.6                   University of Amsterdam\namc.uva.nl             grid.7177.6                   University of Amsterdam\namc.uva.nl             grid.7177.6                   University of Amsterdam\namu.edu.pl                     NaN                                       NaN\naok.pte.hu                     NaN                                       NaN\nastrazeneca.com      grid.418151.8                      AstraZeneca (Sweden)\nbartshealth.nhs.uk   grid.139534.9                    Barts Health NHS Trust\nbartshealth.nhs.uk   grid.416036.6                     London Chest Hospital\nbartshealth.nhs.uk   grid.439227.9                         Mile End Hospital\nbath.ac.uk             grid.7340.0                        University of Bath\nbayer.com                      NaN                                       NaN\nbc3research.org      grid.423984.0          Basque Centre for Climate Change\nbham.ac.uk                     NaN                                       NaN\nbham.ac.uk                     NaN                                       NaN\nbiofilm.montana.edu  grid.460394.c           Montana State University System\nbiofilm.montana.edu  grid.41891.35                  Montana State University\nbris.ac.uk                     NaN                                       NaN\nbrown.edu            grid.40263.33                          Brown University\nbruker.com                     NaN                                       NaN\n...                            ...                                       ...\nunivie.ac.at                   NaN                                       NaN\nusal.es              grid.11762.33                   University of Salamanca\nutoronto.ca          grid.17063.33                     University of Toronto\nutu.fi                 grid.1374.1                       University of Turku\nuva.nl                 grid.7177.6                   University of Amsterdam\nuva.nl                 grid.7177.6                   University of Amsterdam\nuzh.ch                 grid.7400.3                      University of Zurich\nvgregion.se          grid.413652.7                    Kärnsjukhuset i Skövde\nvgregion.se          grid.416029.8                        Skaraborg Hospital\nvgregion.se          grid.452005.6          Västra Götaland Regional Council\nvgregion.se          grid.466872.9                          Kungälvs sjukhus\nvgregion.se          grid.468026.e                   Södra Älvsborg Hospital\nvgregion.se          grid.415366.3                    Folktandvården Kyrkbyn\nvumc.nl              grid.16872.3a              VU University Medical Center\nwa.amu.edu.pl                  NaN                                       NaN\nwho-umc.org          grid.420224.2                 Uppsala Monitoring Centre\nwip.pcz.pl           grid.34197.38      Częstochowa University of Technology\nwip.pcz.pl           grid.34197.38      Częstochowa University of Technology\nwp.pl                          NaN                                       NaN\nwur.nl                         NaN                                       NaN\nxmu.edu.cn                     NaN                                       NaN\nyahoo.co.jp                    NaN                                       NaN\nyahoo.com                      NaN                                       NaN\nyahoo.com                      NaN                                       NaN\nyale.edu                       NaN                                       NaN\nyokohama-cu.ac.jp    grid.268441.d                  Yokohama City University\nyokohama-cu.ac.jp    grid.413045.7   Yokohama City University Medical Center\nyokohama-cu.ac.jp    grid.470126.6         Yokohama City University Hospital\nyokohama-cu.ac.jp    grid.471657.6  Kihara Institute for Biological Research\nzoetis.com                     NaN                                       NaN\n\n[298 rows x 2 columns]\n",
          "name": "stdout"
        }
      ]
    },
    {
      "metadata": {},
      "cell_type": "markdown",
      "source": "### 4 Diskussion\n\nMan könnte noch die Angaben in der Datei „relationships.csv“ miteinbeziehen, um Institutionen, die anderen untergeordnet sind und evtl. die gleiche oder erweiterte Emailadressen verwenden, korrekt zuzuordnen. Dazu haben wir noch keine Lösung."
    },
    {
      "metadata": {},
      "cell_type": "markdown",
      "source": "### 5 Fazit\n\nInsgesamt funktioniert das Vorgehen ganz gut, sodass relativ viele Emailadressen korrekt zugeordnet werden können."
    }
  ],
  "metadata": {
    "kernelspec": {
      "name": "python36",
      "display_name": "Python 3.6",
      "language": "python"
    },
    "language_info": {
      "mimetype": "text/x-python",
      "nbconvert_exporter": "python",
      "name": "python",
      "pygments_lexer": "ipython3",
      "version": "3.6.6",
      "file_extension": ".py",
      "codemirror_mode": {
        "version": 3,
        "name": "ipython"
      }
    }
  },
  "nbformat": 4,
  "nbformat_minor": 2
}